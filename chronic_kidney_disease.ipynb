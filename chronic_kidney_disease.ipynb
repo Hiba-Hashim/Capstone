{
 "cells": [
  {
   "cell_type": "markdown",
   "metadata": {},
   "source": [
    "## Analysis and Prediction for The Chronic Kidney Disease Dataset\n"
   ]
  },
  {
   "cell_type": "markdown",
   "metadata": {},
   "source": [
    "### Project Definition\n",
    "#### Project Overview\n",
    "Chronic kidney disease or (CKD) is a type of kidney disease in which there is gradual loss of kidney function over a period of months to years[1].in 2016 ,This disease had affected 753 million people globally: 417 million females and 336 million males.[2] In order to take a closer look to this disease, in 2015 for nearly 2 months I. Jerlin Rubini a research scholar and Dr. P. Soundarapandian a Senior Consultant Nephrologist have collected and created a data set containing information of 400 Indian patients and their diagnosis."
   ]
  },
  {
   "cell_type": "markdown",
   "metadata": {},
   "source": [
    "#### Problem Statement\n",
    "In this post I will try to answer the following Questions:\n",
    "Can we predict kidney disease illness given a limited and unclean sample of patines information?\n",
    "And what are the best features that can help predict Chronic kidney disease?\n",
    "To answer these questions I need to go through a number of steps:\n",
    "1. Examining the data set.\n",
    "2. Clean the data form missing or unwanted values.\n",
    "3. Prepare the data to be used in the prediction model by changing data type or removing outliers.\n",
    "4. Build a prediction model and train the data.\n",
    "5. Examine the results and draw a conclusion.\n",
    "\n",
    "My main objective is to build a good model that is able to predict if a certain patient has the disease or not."
   ]
  },
  {
   "cell_type": "markdown",
   "metadata": {},
   "source": [
    "### Methodology\n",
    "#### Data Preprocessing\n",
    "To prepare the data for the classification algorithm, I have don the fellowing steps:\n",
    "1. Import the necessary libraries to read, manipulate and visualize the data\n",
    "2. Read data and convert missing information represented by ‘?’ to np.na.\n",
    "3. Remove missing values.\n",
    "4. Examine the values of each column to remove irregularities if exists\n",
    "5. Change the values of the binary categorical columns to be 0 and 1.\n",
    "6. Change the packed_cell_Volume column data type from string to integer.\n"
   ]
  },
  {
   "cell_type": "code",
   "execution_count": 66,
   "metadata": {},
   "outputs": [
    {
     "data": {
      "text/html": [
       "        <script type=\"text/javascript\">\n",
       "        window.PlotlyConfig = {MathJaxConfig: 'local'};\n",
       "        if (window.MathJax) {MathJax.Hub.Config({SVG: {font: \"STIX-Web\"}});}\n",
       "        if (typeof require !== 'undefined') {\n",
       "        require.undef(\"plotly\");\n",
       "        requirejs.config({\n",
       "            paths: {\n",
       "                'plotly': ['https://cdn.plot.ly/plotly-latest.min']\n",
       "            }\n",
       "        });\n",
       "        require(['plotly'], function(Plotly) {\n",
       "            window._Plotly = Plotly;\n",
       "        });\n",
       "        }\n",
       "        </script>\n",
       "        "
      ]
     },
     "metadata": {},
     "output_type": "display_data"
    }
   ],
   "source": [
    "import numpy as np \n",
    "import pandas as pd #\n",
    "import plotly.express as px\n",
    "import plotly.graph_objs as go\n",
    "import matplotlib.pyplot as plt\n",
    "import seaborn as sns \n",
    "from plotly.offline import init_notebook_mode, iplot\n",
    "init_notebook_mode(connected=True)\n",
    "\n",
    "from sklearn.preprocessing import MinMaxScaler\n",
    "from sklearn.metrics import accuracy_score, fbeta_score\n",
    "from sklearn.model_selection  import train_test_split\n",
    "from sklearn.ensemble import RandomForestClassifier\n"
   ]
  },
  {
   "cell_type": "code",
   "execution_count": 67,
   "metadata": {},
   "outputs": [
    {
     "data": {
      "text/html": [
       "<div>\n",
       "<style scoped>\n",
       "    .dataframe tbody tr th:only-of-type {\n",
       "        vertical-align: middle;\n",
       "    }\n",
       "\n",
       "    .dataframe tbody tr th {\n",
       "        vertical-align: top;\n",
       "    }\n",
       "\n",
       "    .dataframe thead th {\n",
       "        text-align: right;\n",
       "    }\n",
       "</style>\n",
       "<table border=\"1\" class=\"dataframe\">\n",
       "  <thead>\n",
       "    <tr style=\"text-align: right;\">\n",
       "      <th></th>\n",
       "      <th>Age</th>\n",
       "      <th>Blood_Pressure</th>\n",
       "      <th>Specific_Gravity</th>\n",
       "      <th>Albumin</th>\n",
       "      <th>Suger</th>\n",
       "      <th>Red_Blood_Cells</th>\n",
       "      <th>Pus_Cell</th>\n",
       "      <th>Pus_Cell_clumps</th>\n",
       "      <th>Bacteria</th>\n",
       "      <th>Blood_Glucose_Random</th>\n",
       "      <th>...</th>\n",
       "      <th>Packed_Cell_Volume</th>\n",
       "      <th>White_Blood_Cell_Count</th>\n",
       "      <th>Red_Blood_Cell_Count</th>\n",
       "      <th>Hypertension</th>\n",
       "      <th>Diabetes_Mellitus</th>\n",
       "      <th>Coronary_Artery_Disease</th>\n",
       "      <th>Appetite</th>\n",
       "      <th>Pedal_Edema</th>\n",
       "      <th>Anemia</th>\n",
       "      <th>Class</th>\n",
       "    </tr>\n",
       "  </thead>\n",
       "  <tbody>\n",
       "    <tr>\n",
       "      <td>0</td>\n",
       "      <td>48.0</td>\n",
       "      <td>80.0</td>\n",
       "      <td>1.020</td>\n",
       "      <td>1.0</td>\n",
       "      <td>0.0</td>\n",
       "      <td>NaN</td>\n",
       "      <td>normal</td>\n",
       "      <td>notpresent</td>\n",
       "      <td>notpresent</td>\n",
       "      <td>121.0</td>\n",
       "      <td>...</td>\n",
       "      <td>44</td>\n",
       "      <td>7800</td>\n",
       "      <td>5.2</td>\n",
       "      <td>yes</td>\n",
       "      <td>yes</td>\n",
       "      <td>no</td>\n",
       "      <td>good</td>\n",
       "      <td>no</td>\n",
       "      <td>no</td>\n",
       "      <td>ckd</td>\n",
       "    </tr>\n",
       "    <tr>\n",
       "      <td>1</td>\n",
       "      <td>7.0</td>\n",
       "      <td>50.0</td>\n",
       "      <td>1.020</td>\n",
       "      <td>4.0</td>\n",
       "      <td>0.0</td>\n",
       "      <td>NaN</td>\n",
       "      <td>normal</td>\n",
       "      <td>notpresent</td>\n",
       "      <td>notpresent</td>\n",
       "      <td>NaN</td>\n",
       "      <td>...</td>\n",
       "      <td>38</td>\n",
       "      <td>6000</td>\n",
       "      <td>NaN</td>\n",
       "      <td>no</td>\n",
       "      <td>no</td>\n",
       "      <td>no</td>\n",
       "      <td>good</td>\n",
       "      <td>no</td>\n",
       "      <td>no</td>\n",
       "      <td>ckd</td>\n",
       "    </tr>\n",
       "    <tr>\n",
       "      <td>2</td>\n",
       "      <td>62.0</td>\n",
       "      <td>80.0</td>\n",
       "      <td>1.010</td>\n",
       "      <td>2.0</td>\n",
       "      <td>3.0</td>\n",
       "      <td>normal</td>\n",
       "      <td>normal</td>\n",
       "      <td>notpresent</td>\n",
       "      <td>notpresent</td>\n",
       "      <td>423.0</td>\n",
       "      <td>...</td>\n",
       "      <td>31</td>\n",
       "      <td>7500</td>\n",
       "      <td>NaN</td>\n",
       "      <td>no</td>\n",
       "      <td>yes</td>\n",
       "      <td>no</td>\n",
       "      <td>poor</td>\n",
       "      <td>no</td>\n",
       "      <td>yes</td>\n",
       "      <td>ckd</td>\n",
       "    </tr>\n",
       "    <tr>\n",
       "      <td>3</td>\n",
       "      <td>48.0</td>\n",
       "      <td>70.0</td>\n",
       "      <td>1.005</td>\n",
       "      <td>4.0</td>\n",
       "      <td>0.0</td>\n",
       "      <td>normal</td>\n",
       "      <td>abnormal</td>\n",
       "      <td>present</td>\n",
       "      <td>notpresent</td>\n",
       "      <td>117.0</td>\n",
       "      <td>...</td>\n",
       "      <td>32</td>\n",
       "      <td>6700</td>\n",
       "      <td>3.9</td>\n",
       "      <td>yes</td>\n",
       "      <td>no</td>\n",
       "      <td>no</td>\n",
       "      <td>poor</td>\n",
       "      <td>yes</td>\n",
       "      <td>yes</td>\n",
       "      <td>ckd</td>\n",
       "    </tr>\n",
       "    <tr>\n",
       "      <td>4</td>\n",
       "      <td>51.0</td>\n",
       "      <td>80.0</td>\n",
       "      <td>1.010</td>\n",
       "      <td>2.0</td>\n",
       "      <td>0.0</td>\n",
       "      <td>normal</td>\n",
       "      <td>normal</td>\n",
       "      <td>notpresent</td>\n",
       "      <td>notpresent</td>\n",
       "      <td>106.0</td>\n",
       "      <td>...</td>\n",
       "      <td>35</td>\n",
       "      <td>7300</td>\n",
       "      <td>4.6</td>\n",
       "      <td>no</td>\n",
       "      <td>no</td>\n",
       "      <td>no</td>\n",
       "      <td>good</td>\n",
       "      <td>no</td>\n",
       "      <td>no</td>\n",
       "      <td>ckd</td>\n",
       "    </tr>\n",
       "  </tbody>\n",
       "</table>\n",
       "<p>5 rows × 25 columns</p>\n",
       "</div>"
      ],
      "text/plain": [
       "    Age  Blood_Pressure  Specific_Gravity  Albumin  Suger Red_Blood_Cells  \\\n",
       "0  48.0            80.0             1.020      1.0    0.0             NaN   \n",
       "1   7.0            50.0             1.020      4.0    0.0             NaN   \n",
       "2  62.0            80.0             1.010      2.0    3.0          normal   \n",
       "3  48.0            70.0             1.005      4.0    0.0          normal   \n",
       "4  51.0            80.0             1.010      2.0    0.0          normal   \n",
       "\n",
       "   Pus_Cell Pus_Cell_clumps    Bacteria  Blood_Glucose_Random  ...  \\\n",
       "0    normal      notpresent  notpresent                 121.0  ...   \n",
       "1    normal      notpresent  notpresent                   NaN  ...   \n",
       "2    normal      notpresent  notpresent                 423.0  ...   \n",
       "3  abnormal         present  notpresent                 117.0  ...   \n",
       "4    normal      notpresent  notpresent                 106.0  ...   \n",
       "\n",
       "   Packed_Cell_Volume  White_Blood_Cell_Count  Red_Blood_Cell_Count  \\\n",
       "0                  44                    7800                   5.2   \n",
       "1                  38                    6000                   NaN   \n",
       "2                  31                    7500                   NaN   \n",
       "3                  32                    6700                   3.9   \n",
       "4                  35                    7300                   4.6   \n",
       "\n",
       "   Hypertension  Diabetes_Mellitus Coronary_Artery_Disease Appetite  \\\n",
       "0           yes                yes                      no     good   \n",
       "1            no                 no                      no     good   \n",
       "2            no                yes                      no     poor   \n",
       "3           yes                 no                      no     poor   \n",
       "4            no                 no                      no     good   \n",
       "\n",
       "  Pedal_Edema Anemia Class  \n",
       "0          no     no   ckd  \n",
       "1          no     no   ckd  \n",
       "2          no    yes   ckd  \n",
       "3         yes    yes   ckd  \n",
       "4          no     no   ckd  \n",
       "\n",
       "[5 rows x 25 columns]"
      ]
     },
     "execution_count": 67,
     "metadata": {},
     "output_type": "execute_result"
    }
   ],
   "source": [
    "#read data and remove missing information\n",
    "\n",
    "kidney_disease = pd.read_csv(\"chronic_kidney_disease.csv\",na_values=['?'])\n",
    "kidney_disease.head()"
   ]
  },
  {
   "cell_type": "markdown",
   "metadata": {},
   "source": [
    "### Analysis\n",
    "#### Data Exploration\n",
    "The dataset used in this blog was downloaded from UCI ML Repository. The data was donated in 2015 from an Apollo Hospitals in Indian and it has 400 entry, which is a very small dataset considering it has number of missing values. There are 25 features related to the patient symptoms, some of which numeric(11) and other nominal(14). I should mention here that this dataset has a class imbalance with 150 cases has the disease and 250 does not."
   ]
  },
  {
   "cell_type": "code",
   "execution_count": 68,
   "metadata": {},
   "outputs": [
    {
     "name": "stdout",
     "output_type": "stream",
     "text": [
      "<class 'pandas.core.frame.DataFrame'>\n",
      "RangeIndex: 400 entries, 0 to 399\n",
      "Data columns (total 25 columns):\n",
      "Age                        391 non-null float64\n",
      "Blood_Pressure             388 non-null float64\n",
      "Specific_Gravity           353 non-null float64\n",
      "Albumin                    354 non-null float64\n",
      "Suger                      351 non-null float64\n",
      "Red_Blood_Cells            248 non-null object\n",
      "Pus_Cell                   335 non-null object\n",
      "Pus_Cell_clumps            396 non-null object\n",
      "Bacteria                   396 non-null object\n",
      "Blood_Glucose_Random       356 non-null float64\n",
      "Blood_Urea                 381 non-null float64\n",
      "Serum_Creatinine           383 non-null float64\n",
      "Sodium                     313 non-null float64\n",
      "Potassium                  312 non-null float64\n",
      "Hemoglobin                 348 non-null float64\n",
      "Packed_Cell_Volume         330 non-null object\n",
      "White_Blood_Cell_Count     295 non-null object\n",
      "Red_Blood_Cell_Count       270 non-null object\n",
      "Hypertension               398 non-null object\n",
      "Diabetes_Mellitus          398 non-null object\n",
      "Coronary_Artery_Disease    398 non-null object\n",
      "Appetite                   399 non-null object\n",
      "Pedal_Edema                399 non-null object\n",
      "Anemia                     399 non-null object\n",
      "Class                      400 non-null object\n",
      "dtypes: float64(11), object(14)\n",
      "memory usage: 78.2+ KB\n"
     ]
    }
   ],
   "source": [
    "#explore data\n",
    "kidney_disease.info()"
   ]
  },
  {
   "cell_type": "code",
   "execution_count": 69,
   "metadata": {},
   "outputs": [
    {
     "data": {
      "text/plain": [
       "Age                          9\n",
       "Blood_Pressure              12\n",
       "Specific_Gravity            47\n",
       "Albumin                     46\n",
       "Suger                       49\n",
       "Red_Blood_Cells            152\n",
       "Pus_Cell                    65\n",
       "Pus_Cell_clumps              4\n",
       "Bacteria                     4\n",
       "Blood_Glucose_Random        44\n",
       "Blood_Urea                  19\n",
       "Serum_Creatinine            17\n",
       "Sodium                      87\n",
       "Potassium                   88\n",
       "Hemoglobin                  52\n",
       "Packed_Cell_Volume          70\n",
       "White_Blood_Cell_Count     105\n",
       "Red_Blood_Cell_Count       130\n",
       "Hypertension                 2\n",
       "Diabetes_Mellitus            2\n",
       "Coronary_Artery_Disease      2\n",
       "Appetite                     1\n",
       "Pedal_Edema                  1\n",
       "Anemia                       1\n",
       "Class                        0\n",
       "dtype: int64"
      ]
     },
     "execution_count": 69,
     "metadata": {},
     "output_type": "execute_result"
    }
   ],
   "source": [
    "kidney_disease.isna().sum()"
   ]
  },
  {
   "cell_type": "code",
   "execution_count": 70,
   "metadata": {},
   "outputs": [],
   "source": [
    "#remove columes with more the 150 missing values then remove nas from rows\n",
    "kidney_disease = kidney_disease.drop(['Red_Blood_Cells','White_Blood_Cell_Count','Red_Blood_Cell_Count'],1)"
   ]
  },
  {
   "cell_type": "code",
   "execution_count": 71,
   "metadata": {},
   "outputs": [],
   "source": [
    "kidney_disease.dropna(inplace= True)"
   ]
  },
  {
   "cell_type": "code",
   "execution_count": 72,
   "metadata": {},
   "outputs": [
    {
     "name": "stdout",
     "output_type": "stream",
     "text": [
      "Age: [48. 68. 53. 63. 40. 60. 61. 75. 69. 73. 76. 47. 54. 15. 46. 56. 67. 74.\n",
      " 59. 71. 65. 17. 45. 70. 52. 50. 39. 55. 62. 66. 83. 21. 42. 64.  6. 49.\n",
      " 90. 34. 57. 23. 51. 38. 35. 30. 25. 19. 24. 20. 33. 41. 44. 29. 43. 58.\n",
      " 32. 37. 22. 28. 72. 79. 80. 36. 12.]\n",
      "Blood_Pressure: [ 70.  90.  80. 100.  60.  50. 110.]\n",
      "Specific_Gravity: [1.005 1.01  1.02  1.015 1.025]\n",
      "Albumin: [4. 0. 2. 3. 1.]\n",
      "Suger: [0. 1. 2. 3. 4. 5.]\n",
      "Pus_Cell: ['abnormal' 'normal']\n",
      "Pus_Cell_clumps: ['present' 'notpresent']\n",
      "Bacteria: ['notpresent' 'present']\n",
      "Blood_Glucose_Random: [117. 100.  70. 380. 208. 157.  76. 263. 173.  95. 108. 156. 264. 107.\n",
      " 159.  92. 204. 207. 124. 162. 253.  86. 150. 360. 163. 129. 133. 102.\n",
      " 132. 280. 210. 219. 295.  93.  91.  88. 115. 123. 294. 144. 118. 224.\n",
      " 128. 214. 268. 105. 288. 121. 273. 242. 122. 424. 303. 160. 447.  22.\n",
      " 131. 352. 239.  94. 252. 139. 172. 109. 255.  78. 490. 241. 104. 165.\n",
      " 169. 463. 106. 176. 140.  82. 119.  99.  98.  97. 111.  96. 125. 112.\n",
      " 130.  81.  89. 127. 137. 120.  80. 134.  83.  87.  79.  74. 113.  75.\n",
      "  85. 114.]\n",
      "Blood_Urea: [ 56.   54.  107.   60.   72.   90.  162.   27.  148.  163.   75.   45.\n",
      "  87.   33.   39.   29.   77.   24.   32.   66.  142.   15.  111.   19.\n",
      "  92.  139.   48.   98.  186.   35.   26.   82.   51.   80.   71.  125.\n",
      " 166.  208.   86.   53.   36.   20.  235.  132.   42.   40.   41.    1.5\n",
      " 153.   52.   23.  137.   58.   67.  158.   37.   89.   96.  150.   73.\n",
      "  61.   30.   95.  191.   50.   64.  215.   55.  309.   10.   49.   17.\n",
      "  38.   31.   18.   46.   34.   25.   22.   44.   28.   47.   16. ]\n",
      "Serum_Creatinine: [ 3.8 24.   7.2  2.7  2.1  4.1  9.6  1.3  3.9  7.7  1.9  2.4  1.5  1.8\n",
      "  1.   6.3  1.2  0.9  1.6  4.6  0.6  6.1  0.7  3.3  6.7  8.5  3.2  2.8\n",
      " 15.   1.7  3.6  5.6  2.2  4.4 11.5  2.   4.   5.3  9.2  2.3  0.8 14.2\n",
      " 16.4  2.6  7.3  4.3 11.8  3.  13.5 12.8 11.9 12.  15.2 13.3  0.5  1.1\n",
      "  0.4]\n",
      "Sodium: [111. 104. 114. 131. 138. 130. 141. 135. 136. 140. 133. 139. 134. 142.\n",
      " 125. 137. 132. 143. 128. 122. 115. 145. 120. 124. 150. 147. 144. 146.]\n",
      "Potassium: [ 2.5  4.   3.7  4.2  5.8  6.4  4.9  4.3  5.2  3.8  3.4  4.6  3.9  4.8\n",
      "  4.4  5.5  5.   7.6  3.5  2.9  4.5  5.7  5.4 47.   5.1  3.   4.7  4.1\n",
      "  2.8  3.2  6.3  5.6  3.3  6.5  3.6]\n",
      "Hemoglobin: [11.2 12.4  9.5 10.8  9.7  5.6  7.6 12.7  7.7  9.8  9.9 11.6 12.5 10.1\n",
      " 11.3 10.3 10.  10.5 11.   7.5 15.2  9.1 11.9  7.1 13.  16.1 10.4  9.2\n",
      " 13.9 14.1 11.8 11.7 12.  11.4  8.1  8.2 13.2 11.1  7.9 10.9  8.3  8.4\n",
      " 12.6  9.   8.7 13.1  8.8 13.8  7.3 12.2 11.5  9.6  9.4 13.4  8.6  3.1\n",
      " 15.  17.  15.9 15.4 13.6 14.5 14.  15.5 16.2 14.4 14.2 14.3 14.8 16.5\n",
      " 15.7 16.3 14.6 16.9 16.  14.7 16.6 14.9 16.7 16.8 13.5 15.1 17.1 13.7\n",
      " 17.3 15.6 17.4 15.8 17.7 17.8 13.3 17.5 17.2 17.6 16.4 15.3]\n",
      "Packed_Cell_Volume: ['32' '36' '29' '28' '16' '24' '37' '35' '30' '34' '33' '27' '44' '31'\n",
      " '22' '40' '52' '42' '23' '39' '25' '26' '41' '20' '38' '47' '9' '48' '46'\n",
      " '49' '45' '43' '50' '51' '53' '54']\n",
      "Hypertension: ['yes' 'no']\n",
      "Diabetes_Mellitus: ['no' 'yes']\n",
      "Coronary_Artery_Disease: ['no' 'yes']\n",
      "Appetite: ['poor' 'good']\n",
      "Pedal_Edema: ['yes' 'no']\n",
      "Anemia: ['yes' 'no']\n",
      "Class: ['ckd' 'notckd']\n"
     ]
    }
   ],
   "source": [
    "#examine the values of each column to remove irregularities if exists\n",
    "kidney_columns = kidney_disease.columns\n",
    "for col in kidney_columns:\n",
    "    print(col + ':', kidney_disease[col].unique())"
   ]
  },
  {
   "cell_type": "code",
   "execution_count": 74,
   "metadata": {},
   "outputs": [],
   "source": [
    "#change the values of the binary categorical columns to be 0 and 1.\n",
    "kidney_disease['Pus_Cell'].replace(['abnormal','normal'],[1,0],inplace= True)\n",
    "kidney_disease['Pus_Cell_clumps'].replace(['present','notpresent'],[1,0],inplace= True)\n",
    "kidney_disease['Bacteria'].replace(['present','notpresent'],[1,0],inplace= True)\n",
    "kidney_disease['Hypertension'].replace(['yes','no'],[1,0],inplace= True)\n",
    "kidney_disease['Diabetes_Mellitus'].replace(['yes','no'],[1,0],inplace= True)\n",
    "kidney_disease['Coronary_Artery_Disease'].replace(['yes','no'],[1,0],inplace= True)\n",
    "kidney_disease['Appetite'].replace(['good','poor'],[1,0],inplace= True)\n",
    "kidney_disease['Pedal_Edema'].replace(['yes','no'],[1,0],inplace= True)\n",
    "kidney_disease['Anemia'].replace(['yes','no'],[1,0],inplace= True)\n",
    "kidney_disease['Class'].replace(['ckd','notckd'],[1,0],inplace= True)"
   ]
  },
  {
   "cell_type": "code",
   "execution_count": 78,
   "metadata": {},
   "outputs": [],
   "source": [
    "# the packed_cell_Volume data type need to be changed from sring to integer \n",
    "kidney_disease.Packed_Cell_Volume = kidney_disease.Packed_Cell_Volume.astype(str).astype(int)"
   ]
  },
  {
   "cell_type": "markdown",
   "metadata": {},
   "source": [
    "#### Data Visualization"
   ]
  },
  {
   "cell_type": "code",
   "execution_count": 75,
   "metadata": {},
   "outputs": [
    {
     "data": {
      "application/vnd.plotly.v1+json": {
       "config": {
        "linkText": "Export to plot.ly",
        "plotlyServerURL": "https://plot.ly",
        "showLink": false
       },
       "data": [
        {
         "marker": {
          "color": "rgba(16, 112, 2, 0.8)"
         },
         "mode": "lines",
         "name": "Blood Press.",
         "text": [
          48,
          68,
          53,
          63,
          68,
          68,
          40,
          60,
          61,
          48,
          61,
          75,
          69,
          73,
          61,
          76,
          47,
          54,
          48,
          73,
          54,
          73,
          15,
          46,
          61,
          46,
          56,
          48,
          67,
          74,
          59,
          63,
          56,
          71,
          73,
          65,
          65,
          71,
          17,
          65,
          45,
          63,
          65,
          70,
          71,
          52,
          50,
          70,
          48,
          45,
          60,
          60,
          39,
          55,
          56,
          62,
          71,
          59,
          46,
          66,
          83,
          17,
          21,
          42,
          45,
          61,
          54,
          64,
          6,
          49,
          59,
          65,
          90,
          65,
          60,
          59,
          40,
          55,
          63,
          71,
          60,
          64,
          59,
          34,
          57,
          69,
          62,
          64,
          48,
          59,
          56,
          40,
          23,
          45,
          57,
          51,
          34,
          60,
          38,
          42,
          35,
          30,
          49,
          55,
          45,
          42,
          50,
          55,
          48,
          25,
          23,
          30,
          56,
          19,
          52,
          46,
          48,
          24,
          55,
          20,
          33,
          66,
          71,
          39,
          42,
          47,
          30,
          41,
          34,
          73,
          44,
          29,
          33,
          41,
          52,
          47,
          43,
          46,
          56,
          55,
          39,
          58,
          61,
          57,
          65,
          43,
          58,
          47,
          30,
          33,
          59,
          23,
          60,
          44,
          62,
          25,
          32,
          63,
          44,
          37,
          64,
          22,
          43,
          38,
          29,
          37,
          39,
          32,
          23,
          34,
          66,
          47,
          74,
          35,
          29,
          33,
          73,
          60,
          68,
          30,
          75,
          69,
          28,
          72,
          61,
          79,
          70,
          58,
          64,
          62,
          59,
          48,
          80,
          57,
          63,
          46,
          15,
          51,
          41,
          52,
          36,
          57,
          43,
          50,
          55,
          42,
          12,
          17,
          58
         ],
         "type": "scatter",
         "x": [
          1,
          2,
          3,
          4,
          5,
          6,
          7,
          8,
          9,
          10,
          11,
          12,
          13,
          14,
          15,
          16,
          17,
          18,
          19,
          20,
          21,
          22,
          23,
          24,
          25,
          26,
          27,
          28,
          29,
          30,
          31,
          32,
          33,
          34,
          35,
          36,
          37,
          38,
          39,
          40,
          41,
          42,
          43,
          44,
          45,
          46,
          47,
          48,
          49,
          50,
          51,
          52,
          53,
          54,
          55,
          56,
          57,
          58,
          59,
          60,
          61,
          62,
          63,
          64,
          65,
          66,
          67,
          68,
          69,
          70,
          71,
          72,
          73,
          74,
          75,
          76,
          77,
          78,
          79,
          80,
          81,
          82,
          83,
          84,
          85,
          86,
          87,
          88,
          89,
          90,
          91,
          92,
          93,
          94,
          95,
          96,
          97,
          98,
          99,
          100,
          101,
          102,
          103,
          104,
          105,
          106,
          107,
          108,
          109,
          110,
          111,
          112,
          113,
          114,
          115,
          116,
          117,
          118,
          119,
          120,
          121,
          122,
          123,
          124,
          125,
          126,
          127,
          128,
          129,
          130,
          131,
          132,
          133,
          134,
          135,
          136,
          137,
          138,
          139,
          140,
          141,
          142,
          143,
          144,
          145,
          146,
          147,
          148,
          149,
          150,
          151,
          152,
          153,
          154,
          155,
          156,
          157,
          158,
          159,
          160,
          161,
          162,
          163,
          164,
          165,
          166,
          167,
          168,
          169,
          170,
          171,
          172,
          173,
          174,
          175,
          176,
          177,
          178,
          179,
          180,
          181,
          182,
          183,
          184,
          185,
          186,
          187,
          188,
          189,
          190,
          191,
          192,
          193,
          194,
          195,
          196,
          197,
          198,
          199,
          200,
          201,
          202,
          203,
          204,
          205,
          206,
          207,
          208,
          209
         ],
         "y": [
          0.3333333333333333,
          0.3333333333333333,
          0.6666666666666666,
          0.3333333333333333,
          0.3333333333333333,
          0.5,
          0.5,
          0.8333333333333334,
          0.5,
          0.5,
          0.16666666666666666,
          0.5,
          0.3333333333333333,
          0.6666666666666666,
          0.6666666666666666,
          0.3333333333333333,
          0.8333333333333334,
          0.5,
          0.3333333333333333,
          0.3333333333333333,
          0.8333333333333334,
          0.5,
          0.16666666666666666,
          0.3333333333333333,
          0.5,
          0.16666666666666666,
          0.6666666666666666,
          0.5,
          0.3333333333333333,
          0.5,
          0.3333333333333333,
          0.8333333333333334,
          0.3333333333333333,
          0.3333333333333333,
          0.8333333333333334,
          0.3333333333333333,
          0.16666666666666666,
          0.6666666666666666,
          0.16666666666666666,
          0.5,
          0.5,
          0.6666666666666666,
          0.5,
          0.6666666666666666,
          0.16666666666666666,
          0.6666666666666666,
          0.6666666666666666,
          0.8333333333333334,
          0.5,
          0.16666666666666666,
          0.6666666666666666,
          0.16666666666666666,
          0.3333333333333333,
          0.6666666666666666,
          0.6666666666666666,
          0.3333333333333333,
          0.16666666666666666,
          0.5,
          0.5,
          0.3333333333333333,
          0.3333333333333333,
          0.3333333333333333,
          0.6666666666666666,
          0.6666666666666666,
          0.3333333333333333,
          0.5,
          0.16666666666666666,
          0.16666666666666666,
          0.16666666666666666,
          0.8333333333333334,
          0.8333333333333334,
          0.5,
          0.6666666666666666,
          0.6666666666666666,
          0.3333333333333333,
          0.8333333333333334,
          0.3333333333333333,
          0.5,
          0.8333333333333334,
          0.6666666666666666,
          0.6666666666666666,
          0.8333333333333334,
          0,
          0.6666666666666666,
          0.3333333333333333,
          0.3333333333333333,
          0.6666666666666666,
          0.6666666666666666,
          1,
          0.3333333333333333,
          0.6666666666666666,
          0.5,
          0.5,
          0.5,
          0.5,
          0.16666666666666666,
          0.5,
          0.5,
          0.16666666666666666,
          0.5,
          0.5,
          0.5,
          0.5,
          0.5,
          0.5,
          0.5,
          0.5,
          0.5,
          0.5,
          0.5,
          0.5,
          0.5,
          0.5,
          0.5,
          0.5,
          0.16666666666666666,
          0.16666666666666666,
          0.3333333333333333,
          0.5,
          0.3333333333333333,
          0.5,
          0.3333333333333333,
          0.3333333333333333,
          0.3333333333333333,
          0.3333333333333333,
          0.5,
          0.5,
          0.3333333333333333,
          0.16666666666666666,
          0.16666666666666666,
          0.16666666666666666,
          0.3333333333333333,
          0.5,
          0.5,
          0.5,
          0.16666666666666666,
          0.5,
          0.16666666666666666,
          0.16666666666666666,
          0.5,
          0.3333333333333333,
          0.3333333333333333,
          0.3333333333333333,
          0.16666666666666666,
          0.16666666666666666,
          0.5,
          0.5,
          0.16666666666666666,
          0.16666666666666666,
          0.16666666666666666,
          0.3333333333333333,
          0.5,
          0.16666666666666666,
          0.3333333333333333,
          0.5,
          0.3333333333333333,
          0.3333333333333333,
          0.3333333333333333,
          0.16666666666666666,
          0.16666666666666666,
          0.16666666666666666,
          0.16666666666666666,
          0.16666666666666666,
          0.5,
          0.5,
          0.16666666666666666,
          0.16666666666666666,
          0.16666666666666666,
          0.16666666666666666,
          0.3333333333333333,
          0.3333333333333333,
          0.16666666666666666,
          0.16666666666666666,
          0.16666666666666666,
          0.5,
          0.5,
          0.5,
          0.5,
          0.16666666666666666,
          0.5,
          0.3333333333333333,
          0.3333333333333333,
          0.16666666666666666,
          0.16666666666666666,
          0.3333333333333333,
          0.5,
          0.5,
          0.3333333333333333,
          0.3333333333333333,
          0.5,
          0.16666666666666666,
          0.5,
          0.5,
          0.16666666666666666,
          0.3333333333333333,
          0.3333333333333333,
          0.5,
          0.5,
          0.5,
          0.5,
          0.5,
          0.5,
          0.16666666666666666,
          0.5,
          0.5,
          0.3333333333333333,
          0.5,
          0.16666666666666666,
          0.5
         ]
        },
        {
         "marker": {
          "color": "rgba(80, 26, 80, 0.8)"
         },
         "mode": "lines+markers",
         "name": "Hemoglobin",
         "text": [
          48,
          68,
          53,
          63,
          68,
          68,
          40,
          60,
          61,
          48,
          61,
          75,
          69,
          73,
          61,
          76,
          47,
          54,
          48,
          73,
          54,
          73,
          15,
          46,
          61,
          46,
          56,
          48,
          67,
          74,
          59,
          63,
          56,
          71,
          73,
          65,
          65,
          71,
          17,
          65,
          45,
          63,
          65,
          70,
          71,
          52,
          50,
          70,
          48,
          45,
          60,
          60,
          39,
          55,
          56,
          62,
          71,
          59,
          46,
          66,
          83,
          17,
          21,
          42,
          45,
          61,
          54,
          64,
          6,
          49,
          59,
          65,
          90,
          65,
          60,
          59,
          40,
          55,
          63,
          71,
          60,
          64,
          59,
          34,
          57,
          69,
          62,
          64,
          48,
          59,
          56,
          40,
          23,
          45,
          57,
          51,
          34,
          60,
          38,
          42,
          35,
          30,
          49,
          55,
          45,
          42,
          50,
          55,
          48,
          25,
          23,
          30,
          56,
          19,
          52,
          46,
          48,
          24,
          55,
          20,
          33,
          66,
          71,
          39,
          42,
          47,
          30,
          41,
          34,
          73,
          44,
          29,
          33,
          41,
          52,
          47,
          43,
          46,
          56,
          55,
          39,
          58,
          61,
          57,
          65,
          43,
          58,
          47,
          30,
          33,
          59,
          23,
          60,
          44,
          62,
          25,
          32,
          63,
          44,
          37,
          64,
          22,
          43,
          38,
          29,
          37,
          39,
          32,
          23,
          34,
          66,
          47,
          74,
          35,
          29,
          33,
          73,
          60,
          68,
          30,
          75,
          69,
          28,
          72,
          61,
          79,
          70,
          58,
          64,
          62,
          59,
          48,
          80,
          57,
          63,
          46,
          15,
          51,
          41,
          52,
          36,
          57,
          43,
          50,
          55,
          42,
          12,
          17,
          58
         ],
         "type": "scatter",
         "x": [
          1,
          2,
          3,
          4,
          5,
          6,
          7,
          8,
          9,
          10,
          11,
          12,
          13,
          14,
          15,
          16,
          17,
          18,
          19,
          20,
          21,
          22,
          23,
          24,
          25,
          26,
          27,
          28,
          29,
          30,
          31,
          32,
          33,
          34,
          35,
          36,
          37,
          38,
          39,
          40,
          41,
          42,
          43,
          44,
          45,
          46,
          47,
          48,
          49,
          50,
          51,
          52,
          53,
          54,
          55,
          56,
          57,
          58,
          59,
          60,
          61,
          62,
          63,
          64,
          65,
          66,
          67,
          68,
          69,
          70,
          71,
          72,
          73,
          74,
          75,
          76,
          77,
          78,
          79,
          80,
          81,
          82,
          83,
          84,
          85,
          86,
          87,
          88,
          89,
          90,
          91,
          92,
          93,
          94,
          95,
          96,
          97,
          98,
          99,
          100,
          101,
          102,
          103,
          104,
          105,
          106,
          107,
          108,
          109,
          110,
          111,
          112,
          113,
          114,
          115,
          116,
          117,
          118,
          119,
          120,
          121,
          122,
          123,
          124,
          125,
          126,
          127,
          128,
          129,
          130,
          131,
          132,
          133,
          134,
          135,
          136,
          137,
          138,
          139,
          140,
          141,
          142,
          143,
          144,
          145,
          146,
          147,
          148,
          149,
          150,
          151,
          152,
          153,
          154,
          155,
          156,
          157,
          158,
          159,
          160,
          161,
          162,
          163,
          164,
          165,
          166,
          167,
          168,
          169,
          170,
          171,
          172,
          173,
          174,
          175,
          176,
          177,
          178,
          179,
          180,
          181,
          182,
          183,
          184,
          185,
          186,
          187,
          188,
          189,
          190,
          191,
          192,
          193,
          194,
          195,
          196,
          197,
          198,
          199,
          200,
          201,
          202,
          203,
          204,
          205,
          206,
          207,
          208,
          209
         ],
         "y": [
          0.5510204081632653,
          0.6326530612244898,
          0.43537414965986393,
          0.5238095238095238,
          0.44897959183673464,
          0.17006802721088432,
          0.3061224489795918,
          0.6530612244897959,
          0.31292517006802717,
          0.45578231292517013,
          0.46258503401360546,
          0.5782312925170068,
          0.6394557823129251,
          0.47619047619047616,
          0.5578231292517007,
          0.489795918367347,
          0.44897959183673464,
          0.44897959183673464,
          0.6326530612244898,
          0.4693877551020408,
          0.489795918367347,
          0.5034013605442177,
          0.5374149659863945,
          0.29931972789115646,
          0.8231292517006802,
          0.45578231292517013,
          0.4081632653061224,
          0.489795918367347,
          0.5986394557823129,
          0.5238095238095238,
          0.27210884353741494,
          0.673469387755102,
          0.8843537414965987,
          0.4965986394557823,
          0.4149659863945578,
          0.5782312925170068,
          0.4693877551020408,
          0.5578231292517007,
          0.7346938775510204,
          0.7482993197278911,
          0.5918367346938775,
          0.5850340136054422,
          0.4693877551020408,
          0.6054421768707483,
          0.564625850340136,
          0.3401360544217687,
          0.346938775510204,
          0.6054421768707483,
          0.6870748299319727,
          0.4693877551020408,
          0.5442176870748299,
          0.326530612244898,
          0.5306122448979592,
          0.3537414965986395,
          0.36054421768707484,
          0.6462585034013605,
          0.5306122448979592,
          0.4965986394557823,
          0.4013605442176871,
          0.6394557823129251,
          0.3809523809523809,
          0.6802721088435374,
          0.3537414965986395,
          0.45578231292517013,
          0.4693877551020408,
          0.5578231292517007,
          0.5578231292517007,
          0.43537414965986393,
          0.46258503401360546,
          0.3401360544217687,
          0.5510204081632653,
          0.38775510204081637,
          0.6054421768707483,
          0.38775510204081637,
          0.7278911564625851,
          0.28571428571428564,
          0.5306122448979592,
          0.5306122448979592,
          0.619047619047619,
          0.673469387755102,
          0.5714285714285714,
          0.326530612244898,
          0.4421768707482993,
          0.5986394557823129,
          0.4965986394557823,
          0.4285714285714286,
          0.7006802721088435,
          0.619047619047619,
          0.37414965986394555,
          0.6462585034013605,
          0,
          0.8095238095238095,
          0.945578231292517,
          0.8707482993197279,
          0.8367346938775511,
          0.673469387755102,
          0.7142857142857142,
          0.7755102040816326,
          0.7414965986394557,
          0.7346938775510204,
          0.8843537414965987,
          0.7482993197278911,
          0.945578231292517,
          0.8435374149659863,
          0.8911564625850339,
          0.7687074829931972,
          0.7551020408163265,
          0.6870748299319727,
          0.7346938775510204,
          0.8095238095238095,
          0.761904761904762,
          0.7278911564625851,
          0.7959183673469388,
          0.7687074829931972,
          0.9115646258503401,
          0.8571428571428571,
          0.7755102040816326,
          0.8979591836734694,
          0.8435374149659863,
          0.782312925170068,
          0.9387755102040815,
          0.8775510204081632,
          0.7891156462585033,
          0.7006802721088435,
          0.9183673469387755,
          0.8027210884353742,
          0.9251700680272108,
          0.9319727891156463,
          0.7074829931972789,
          0.8163265306122448,
          0.9387755102040815,
          0.7959183673469388,
          0.6802721088435374,
          0.9523809523809524,
          0.8231292517006802,
          0.7142857142857142,
          0.7346938775510204,
          0.6870748299319727,
          0.7210884353741496,
          0.9659863945578231,
          0.8503401360544217,
          0.8095238095238095,
          0.9727891156462584,
          0.8571428571428571,
          0.7346938775510204,
          0.8707482993197279,
          0.7414965986394557,
          0.8639455782312925,
          0.7006802721088435,
          0.7482993197278911,
          0.7074829931972789,
          0.9931972789115645,
          0.7551020408163265,
          0.7414965986394557,
          1,
          0.6938775510204082,
          0.761904761904762,
          0.7006802721088435,
          0.8095238095238095,
          0.8911564625850339,
          0.7687074829931972,
          0.7074829931972789,
          1,
          0.7142857142857142,
          0.9795918367346939,
          0.8095238095238095,
          0.7142857142857142,
          0.782312925170068,
          0.8095238095238095,
          0.9523809523809524,
          0.7142857142857142,
          0.673469387755102,
          0.9591836734693877,
          0.7891156462585033,
          0.7210884353741496,
          0.8095238095238095,
          0.7959183673469388,
          0.8095238095238095,
          0.9727891156462584,
          0.8027210884353742,
          0.7142857142857142,
          0.8911564625850339,
          0.9863945578231293,
          0.8095238095238095,
          0.7210884353741496,
          0.8979591836734694,
          0.8163265306122448,
          0.9047619047619047,
          0.7278911564625851,
          0.8843537414965987,
          0.8299319727891157,
          0.9319727891156463,
          0.7346938775510204,
          0.8367346938775511,
          0.9115646258503401,
          0.9047619047619047,
          0.9251700680272108,
          0.8435374149659863,
          0.945578231292517,
          0.8095238095238095,
          0.8503401360544217,
          0.7959183673469388,
          0.673469387755102,
          0.7482993197278911,
          0.8571428571428571,
          0.9115646258503401,
          0.8639455782312925,
          0.7551020408163265,
          0.8639455782312925
         ]
        }
       ],
       "layout": {
        "template": {
         "data": {
          "bar": [
           {
            "error_x": {
             "color": "#2a3f5f"
            },
            "error_y": {
             "color": "#2a3f5f"
            },
            "marker": {
             "line": {
              "color": "#E5ECF6",
              "width": 0.5
             }
            },
            "type": "bar"
           }
          ],
          "barpolar": [
           {
            "marker": {
             "line": {
              "color": "#E5ECF6",
              "width": 0.5
             }
            },
            "type": "barpolar"
           }
          ],
          "carpet": [
           {
            "aaxis": {
             "endlinecolor": "#2a3f5f",
             "gridcolor": "white",
             "linecolor": "white",
             "minorgridcolor": "white",
             "startlinecolor": "#2a3f5f"
            },
            "baxis": {
             "endlinecolor": "#2a3f5f",
             "gridcolor": "white",
             "linecolor": "white",
             "minorgridcolor": "white",
             "startlinecolor": "#2a3f5f"
            },
            "type": "carpet"
           }
          ],
          "choropleth": [
           {
            "colorbar": {
             "outlinewidth": 0,
             "ticks": ""
            },
            "type": "choropleth"
           }
          ],
          "contour": [
           {
            "colorbar": {
             "outlinewidth": 0,
             "ticks": ""
            },
            "colorscale": [
             [
              0,
              "#0d0887"
             ],
             [
              0.1111111111111111,
              "#46039f"
             ],
             [
              0.2222222222222222,
              "#7201a8"
             ],
             [
              0.3333333333333333,
              "#9c179e"
             ],
             [
              0.4444444444444444,
              "#bd3786"
             ],
             [
              0.5555555555555556,
              "#d8576b"
             ],
             [
              0.6666666666666666,
              "#ed7953"
             ],
             [
              0.7777777777777778,
              "#fb9f3a"
             ],
             [
              0.8888888888888888,
              "#fdca26"
             ],
             [
              1,
              "#f0f921"
             ]
            ],
            "type": "contour"
           }
          ],
          "contourcarpet": [
           {
            "colorbar": {
             "outlinewidth": 0,
             "ticks": ""
            },
            "type": "contourcarpet"
           }
          ],
          "heatmap": [
           {
            "colorbar": {
             "outlinewidth": 0,
             "ticks": ""
            },
            "colorscale": [
             [
              0,
              "#0d0887"
             ],
             [
              0.1111111111111111,
              "#46039f"
             ],
             [
              0.2222222222222222,
              "#7201a8"
             ],
             [
              0.3333333333333333,
              "#9c179e"
             ],
             [
              0.4444444444444444,
              "#bd3786"
             ],
             [
              0.5555555555555556,
              "#d8576b"
             ],
             [
              0.6666666666666666,
              "#ed7953"
             ],
             [
              0.7777777777777778,
              "#fb9f3a"
             ],
             [
              0.8888888888888888,
              "#fdca26"
             ],
             [
              1,
              "#f0f921"
             ]
            ],
            "type": "heatmap"
           }
          ],
          "heatmapgl": [
           {
            "colorbar": {
             "outlinewidth": 0,
             "ticks": ""
            },
            "colorscale": [
             [
              0,
              "#0d0887"
             ],
             [
              0.1111111111111111,
              "#46039f"
             ],
             [
              0.2222222222222222,
              "#7201a8"
             ],
             [
              0.3333333333333333,
              "#9c179e"
             ],
             [
              0.4444444444444444,
              "#bd3786"
             ],
             [
              0.5555555555555556,
              "#d8576b"
             ],
             [
              0.6666666666666666,
              "#ed7953"
             ],
             [
              0.7777777777777778,
              "#fb9f3a"
             ],
             [
              0.8888888888888888,
              "#fdca26"
             ],
             [
              1,
              "#f0f921"
             ]
            ],
            "type": "heatmapgl"
           }
          ],
          "histogram": [
           {
            "marker": {
             "colorbar": {
              "outlinewidth": 0,
              "ticks": ""
             }
            },
            "type": "histogram"
           }
          ],
          "histogram2d": [
           {
            "colorbar": {
             "outlinewidth": 0,
             "ticks": ""
            },
            "colorscale": [
             [
              0,
              "#0d0887"
             ],
             [
              0.1111111111111111,
              "#46039f"
             ],
             [
              0.2222222222222222,
              "#7201a8"
             ],
             [
              0.3333333333333333,
              "#9c179e"
             ],
             [
              0.4444444444444444,
              "#bd3786"
             ],
             [
              0.5555555555555556,
              "#d8576b"
             ],
             [
              0.6666666666666666,
              "#ed7953"
             ],
             [
              0.7777777777777778,
              "#fb9f3a"
             ],
             [
              0.8888888888888888,
              "#fdca26"
             ],
             [
              1,
              "#f0f921"
             ]
            ],
            "type": "histogram2d"
           }
          ],
          "histogram2dcontour": [
           {
            "colorbar": {
             "outlinewidth": 0,
             "ticks": ""
            },
            "colorscale": [
             [
              0,
              "#0d0887"
             ],
             [
              0.1111111111111111,
              "#46039f"
             ],
             [
              0.2222222222222222,
              "#7201a8"
             ],
             [
              0.3333333333333333,
              "#9c179e"
             ],
             [
              0.4444444444444444,
              "#bd3786"
             ],
             [
              0.5555555555555556,
              "#d8576b"
             ],
             [
              0.6666666666666666,
              "#ed7953"
             ],
             [
              0.7777777777777778,
              "#fb9f3a"
             ],
             [
              0.8888888888888888,
              "#fdca26"
             ],
             [
              1,
              "#f0f921"
             ]
            ],
            "type": "histogram2dcontour"
           }
          ],
          "mesh3d": [
           {
            "colorbar": {
             "outlinewidth": 0,
             "ticks": ""
            },
            "type": "mesh3d"
           }
          ],
          "parcoords": [
           {
            "line": {
             "colorbar": {
              "outlinewidth": 0,
              "ticks": ""
             }
            },
            "type": "parcoords"
           }
          ],
          "pie": [
           {
            "automargin": true,
            "type": "pie"
           }
          ],
          "scatter": [
           {
            "marker": {
             "colorbar": {
              "outlinewidth": 0,
              "ticks": ""
             }
            },
            "type": "scatter"
           }
          ],
          "scatter3d": [
           {
            "line": {
             "colorbar": {
              "outlinewidth": 0,
              "ticks": ""
             }
            },
            "marker": {
             "colorbar": {
              "outlinewidth": 0,
              "ticks": ""
             }
            },
            "type": "scatter3d"
           }
          ],
          "scattercarpet": [
           {
            "marker": {
             "colorbar": {
              "outlinewidth": 0,
              "ticks": ""
             }
            },
            "type": "scattercarpet"
           }
          ],
          "scattergeo": [
           {
            "marker": {
             "colorbar": {
              "outlinewidth": 0,
              "ticks": ""
             }
            },
            "type": "scattergeo"
           }
          ],
          "scattergl": [
           {
            "marker": {
             "colorbar": {
              "outlinewidth": 0,
              "ticks": ""
             }
            },
            "type": "scattergl"
           }
          ],
          "scattermapbox": [
           {
            "marker": {
             "colorbar": {
              "outlinewidth": 0,
              "ticks": ""
             }
            },
            "type": "scattermapbox"
           }
          ],
          "scatterpolar": [
           {
            "marker": {
             "colorbar": {
              "outlinewidth": 0,
              "ticks": ""
             }
            },
            "type": "scatterpolar"
           }
          ],
          "scatterpolargl": [
           {
            "marker": {
             "colorbar": {
              "outlinewidth": 0,
              "ticks": ""
             }
            },
            "type": "scatterpolargl"
           }
          ],
          "scatterternary": [
           {
            "marker": {
             "colorbar": {
              "outlinewidth": 0,
              "ticks": ""
             }
            },
            "type": "scatterternary"
           }
          ],
          "surface": [
           {
            "colorbar": {
             "outlinewidth": 0,
             "ticks": ""
            },
            "colorscale": [
             [
              0,
              "#0d0887"
             ],
             [
              0.1111111111111111,
              "#46039f"
             ],
             [
              0.2222222222222222,
              "#7201a8"
             ],
             [
              0.3333333333333333,
              "#9c179e"
             ],
             [
              0.4444444444444444,
              "#bd3786"
             ],
             [
              0.5555555555555556,
              "#d8576b"
             ],
             [
              0.6666666666666666,
              "#ed7953"
             ],
             [
              0.7777777777777778,
              "#fb9f3a"
             ],
             [
              0.8888888888888888,
              "#fdca26"
             ],
             [
              1,
              "#f0f921"
             ]
            ],
            "type": "surface"
           }
          ],
          "table": [
           {
            "cells": {
             "fill": {
              "color": "#EBF0F8"
             },
             "line": {
              "color": "white"
             }
            },
            "header": {
             "fill": {
              "color": "#C8D4E3"
             },
             "line": {
              "color": "white"
             }
            },
            "type": "table"
           }
          ]
         },
         "layout": {
          "annotationdefaults": {
           "arrowcolor": "#2a3f5f",
           "arrowhead": 0,
           "arrowwidth": 1
          },
          "coloraxis": {
           "colorbar": {
            "outlinewidth": 0,
            "ticks": ""
           }
          },
          "colorscale": {
           "diverging": [
            [
             0,
             "#8e0152"
            ],
            [
             0.1,
             "#c51b7d"
            ],
            [
             0.2,
             "#de77ae"
            ],
            [
             0.3,
             "#f1b6da"
            ],
            [
             0.4,
             "#fde0ef"
            ],
            [
             0.5,
             "#f7f7f7"
            ],
            [
             0.6,
             "#e6f5d0"
            ],
            [
             0.7,
             "#b8e186"
            ],
            [
             0.8,
             "#7fbc41"
            ],
            [
             0.9,
             "#4d9221"
            ],
            [
             1,
             "#276419"
            ]
           ],
           "sequential": [
            [
             0,
             "#0d0887"
            ],
            [
             0.1111111111111111,
             "#46039f"
            ],
            [
             0.2222222222222222,
             "#7201a8"
            ],
            [
             0.3333333333333333,
             "#9c179e"
            ],
            [
             0.4444444444444444,
             "#bd3786"
            ],
            [
             0.5555555555555556,
             "#d8576b"
            ],
            [
             0.6666666666666666,
             "#ed7953"
            ],
            [
             0.7777777777777778,
             "#fb9f3a"
            ],
            [
             0.8888888888888888,
             "#fdca26"
            ],
            [
             1,
             "#f0f921"
            ]
           ],
           "sequentialminus": [
            [
             0,
             "#0d0887"
            ],
            [
             0.1111111111111111,
             "#46039f"
            ],
            [
             0.2222222222222222,
             "#7201a8"
            ],
            [
             0.3333333333333333,
             "#9c179e"
            ],
            [
             0.4444444444444444,
             "#bd3786"
            ],
            [
             0.5555555555555556,
             "#d8576b"
            ],
            [
             0.6666666666666666,
             "#ed7953"
            ],
            [
             0.7777777777777778,
             "#fb9f3a"
            ],
            [
             0.8888888888888888,
             "#fdca26"
            ],
            [
             1,
             "#f0f921"
            ]
           ]
          },
          "colorway": [
           "#636efa",
           "#EF553B",
           "#00cc96",
           "#ab63fa",
           "#FFA15A",
           "#19d3f3",
           "#FF6692",
           "#B6E880",
           "#FF97FF",
           "#FECB52"
          ],
          "font": {
           "color": "#2a3f5f"
          },
          "geo": {
           "bgcolor": "white",
           "lakecolor": "white",
           "landcolor": "#E5ECF6",
           "showlakes": true,
           "showland": true,
           "subunitcolor": "white"
          },
          "hoverlabel": {
           "align": "left"
          },
          "hovermode": "closest",
          "mapbox": {
           "style": "light"
          },
          "paper_bgcolor": "white",
          "plot_bgcolor": "#E5ECF6",
          "polar": {
           "angularaxis": {
            "gridcolor": "white",
            "linecolor": "white",
            "ticks": ""
           },
           "bgcolor": "#E5ECF6",
           "radialaxis": {
            "gridcolor": "white",
            "linecolor": "white",
            "ticks": ""
           }
          },
          "scene": {
           "xaxis": {
            "backgroundcolor": "#E5ECF6",
            "gridcolor": "white",
            "gridwidth": 2,
            "linecolor": "white",
            "showbackground": true,
            "ticks": "",
            "zerolinecolor": "white"
           },
           "yaxis": {
            "backgroundcolor": "#E5ECF6",
            "gridcolor": "white",
            "gridwidth": 2,
            "linecolor": "white",
            "showbackground": true,
            "ticks": "",
            "zerolinecolor": "white"
           },
           "zaxis": {
            "backgroundcolor": "#E5ECF6",
            "gridcolor": "white",
            "gridwidth": 2,
            "linecolor": "white",
            "showbackground": true,
            "ticks": "",
            "zerolinecolor": "white"
           }
          },
          "shapedefaults": {
           "line": {
            "color": "#2a3f5f"
           }
          },
          "ternary": {
           "aaxis": {
            "gridcolor": "white",
            "linecolor": "white",
            "ticks": ""
           },
           "baxis": {
            "gridcolor": "white",
            "linecolor": "white",
            "ticks": ""
           },
           "bgcolor": "#E5ECF6",
           "caxis": {
            "gridcolor": "white",
            "linecolor": "white",
            "ticks": ""
           }
          },
          "title": {
           "x": 0.05
          },
          "xaxis": {
           "automargin": true,
           "gridcolor": "white",
           "linecolor": "white",
           "ticks": "",
           "title": {
            "standoff": 15
           },
           "zerolinecolor": "white",
           "zerolinewidth": 2
          },
          "yaxis": {
           "automargin": true,
           "gridcolor": "white",
           "linecolor": "white",
           "ticks": "",
           "title": {
            "standoff": 15
           },
           "zerolinecolor": "white",
           "zerolinewidth": 2
          }
         }
        },
        "title": {
         "text": "Blood Press and Hemoglobin values according the age"
        },
        "xaxis": {
         "ticklen": 5,
         "title": {
          "text": "İd"
         },
         "zeroline": false
        }
       }
      },
      "text/html": [
       "<div>\n",
       "        \n",
       "        \n",
       "            <div id=\"e7bd21e0-2c7d-40ce-ba81-2291610f7cc0\" class=\"plotly-graph-div\" style=\"height:525px; width:100%;\"></div>\n",
       "            <script type=\"text/javascript\">\n",
       "                require([\"plotly\"], function(Plotly) {\n",
       "                    window.PLOTLYENV=window.PLOTLYENV || {};\n",
       "                    \n",
       "                if (document.getElementById(\"e7bd21e0-2c7d-40ce-ba81-2291610f7cc0\")) {\n",
       "                    Plotly.newPlot(\n",
       "                        'e7bd21e0-2c7d-40ce-ba81-2291610f7cc0',\n",
       "                        [{\"marker\": {\"color\": \"rgba(16, 112, 2, 0.8)\"}, \"mode\": \"lines\", \"name\": \"Blood Press.\", \"text\": [48.0, 68.0, 53.0, 63.0, 68.0, 68.0, 40.0, 60.0, 61.0, 48.0, 61.0, 75.0, 69.0, 73.0, 61.0, 76.0, 47.0, 54.0, 48.0, 73.0, 54.0, 73.0, 15.0, 46.0, 61.0, 46.0, 56.0, 48.0, 67.0, 74.0, 59.0, 63.0, 56.0, 71.0, 73.0, 65.0, 65.0, 71.0, 17.0, 65.0, 45.0, 63.0, 65.0, 70.0, 71.0, 52.0, 50.0, 70.0, 48.0, 45.0, 60.0, 60.0, 39.0, 55.0, 56.0, 62.0, 71.0, 59.0, 46.0, 66.0, 83.0, 17.0, 21.0, 42.0, 45.0, 61.0, 54.0, 64.0, 6.0, 49.0, 59.0, 65.0, 90.0, 65.0, 60.0, 59.0, 40.0, 55.0, 63.0, 71.0, 60.0, 64.0, 59.0, 34.0, 57.0, 69.0, 62.0, 64.0, 48.0, 59.0, 56.0, 40.0, 23.0, 45.0, 57.0, 51.0, 34.0, 60.0, 38.0, 42.0, 35.0, 30.0, 49.0, 55.0, 45.0, 42.0, 50.0, 55.0, 48.0, 25.0, 23.0, 30.0, 56.0, 19.0, 52.0, 46.0, 48.0, 24.0, 55.0, 20.0, 33.0, 66.0, 71.0, 39.0, 42.0, 47.0, 30.0, 41.0, 34.0, 73.0, 44.0, 29.0, 33.0, 41.0, 52.0, 47.0, 43.0, 46.0, 56.0, 55.0, 39.0, 58.0, 61.0, 57.0, 65.0, 43.0, 58.0, 47.0, 30.0, 33.0, 59.0, 23.0, 60.0, 44.0, 62.0, 25.0, 32.0, 63.0, 44.0, 37.0, 64.0, 22.0, 43.0, 38.0, 29.0, 37.0, 39.0, 32.0, 23.0, 34.0, 66.0, 47.0, 74.0, 35.0, 29.0, 33.0, 73.0, 60.0, 68.0, 30.0, 75.0, 69.0, 28.0, 72.0, 61.0, 79.0, 70.0, 58.0, 64.0, 62.0, 59.0, 48.0, 80.0, 57.0, 63.0, 46.0, 15.0, 51.0, 41.0, 52.0, 36.0, 57.0, 43.0, 50.0, 55.0, 42.0, 12.0, 17.0, 58.0], \"type\": \"scatter\", \"x\": [1, 2, 3, 4, 5, 6, 7, 8, 9, 10, 11, 12, 13, 14, 15, 16, 17, 18, 19, 20, 21, 22, 23, 24, 25, 26, 27, 28, 29, 30, 31, 32, 33, 34, 35, 36, 37, 38, 39, 40, 41, 42, 43, 44, 45, 46, 47, 48, 49, 50, 51, 52, 53, 54, 55, 56, 57, 58, 59, 60, 61, 62, 63, 64, 65, 66, 67, 68, 69, 70, 71, 72, 73, 74, 75, 76, 77, 78, 79, 80, 81, 82, 83, 84, 85, 86, 87, 88, 89, 90, 91, 92, 93, 94, 95, 96, 97, 98, 99, 100, 101, 102, 103, 104, 105, 106, 107, 108, 109, 110, 111, 112, 113, 114, 115, 116, 117, 118, 119, 120, 121, 122, 123, 124, 125, 126, 127, 128, 129, 130, 131, 132, 133, 134, 135, 136, 137, 138, 139, 140, 141, 142, 143, 144, 145, 146, 147, 148, 149, 150, 151, 152, 153, 154, 155, 156, 157, 158, 159, 160, 161, 162, 163, 164, 165, 166, 167, 168, 169, 170, 171, 172, 173, 174, 175, 176, 177, 178, 179, 180, 181, 182, 183, 184, 185, 186, 187, 188, 189, 190, 191, 192, 193, 194, 195, 196, 197, 198, 199, 200, 201, 202, 203, 204, 205, 206, 207, 208, 209], \"y\": [0.3333333333333333, 0.3333333333333333, 0.6666666666666666, 0.3333333333333333, 0.3333333333333333, 0.5, 0.5, 0.8333333333333334, 0.5, 0.5, 0.16666666666666666, 0.5, 0.3333333333333333, 0.6666666666666666, 0.6666666666666666, 0.3333333333333333, 0.8333333333333334, 0.5, 0.3333333333333333, 0.3333333333333333, 0.8333333333333334, 0.5, 0.16666666666666666, 0.3333333333333333, 0.5, 0.16666666666666666, 0.6666666666666666, 0.5, 0.3333333333333333, 0.5, 0.3333333333333333, 0.8333333333333334, 0.3333333333333333, 0.3333333333333333, 0.8333333333333334, 0.3333333333333333, 0.16666666666666666, 0.6666666666666666, 0.16666666666666666, 0.5, 0.5, 0.6666666666666666, 0.5, 0.6666666666666666, 0.16666666666666666, 0.6666666666666666, 0.6666666666666666, 0.8333333333333334, 0.5, 0.16666666666666666, 0.6666666666666666, 0.16666666666666666, 0.3333333333333333, 0.6666666666666666, 0.6666666666666666, 0.3333333333333333, 0.16666666666666666, 0.5, 0.5, 0.3333333333333333, 0.3333333333333333, 0.3333333333333333, 0.6666666666666666, 0.6666666666666666, 0.3333333333333333, 0.5, 0.16666666666666666, 0.16666666666666666, 0.16666666666666666, 0.8333333333333334, 0.8333333333333334, 0.5, 0.6666666666666666, 0.6666666666666666, 0.3333333333333333, 0.8333333333333334, 0.3333333333333333, 0.5, 0.8333333333333334, 0.6666666666666666, 0.6666666666666666, 0.8333333333333334, 0.0, 0.6666666666666666, 0.3333333333333333, 0.3333333333333333, 0.6666666666666666, 0.6666666666666666, 1.0, 0.3333333333333333, 0.6666666666666666, 0.5, 0.5, 0.5, 0.5, 0.16666666666666666, 0.5, 0.5, 0.16666666666666666, 0.5, 0.5, 0.5, 0.5, 0.5, 0.5, 0.5, 0.5, 0.5, 0.5, 0.5, 0.5, 0.5, 0.5, 0.5, 0.5, 0.16666666666666666, 0.16666666666666666, 0.3333333333333333, 0.5, 0.3333333333333333, 0.5, 0.3333333333333333, 0.3333333333333333, 0.3333333333333333, 0.3333333333333333, 0.5, 0.5, 0.3333333333333333, 0.16666666666666666, 0.16666666666666666, 0.16666666666666666, 0.3333333333333333, 0.5, 0.5, 0.5, 0.16666666666666666, 0.5, 0.16666666666666666, 0.16666666666666666, 0.5, 0.3333333333333333, 0.3333333333333333, 0.3333333333333333, 0.16666666666666666, 0.16666666666666666, 0.5, 0.5, 0.16666666666666666, 0.16666666666666666, 0.16666666666666666, 0.3333333333333333, 0.5, 0.16666666666666666, 0.3333333333333333, 0.5, 0.3333333333333333, 0.3333333333333333, 0.3333333333333333, 0.16666666666666666, 0.16666666666666666, 0.16666666666666666, 0.16666666666666666, 0.16666666666666666, 0.5, 0.5, 0.16666666666666666, 0.16666666666666666, 0.16666666666666666, 0.16666666666666666, 0.3333333333333333, 0.3333333333333333, 0.16666666666666666, 0.16666666666666666, 0.16666666666666666, 0.5, 0.5, 0.5, 0.5, 0.16666666666666666, 0.5, 0.3333333333333333, 0.3333333333333333, 0.16666666666666666, 0.16666666666666666, 0.3333333333333333, 0.5, 0.5, 0.3333333333333333, 0.3333333333333333, 0.5, 0.16666666666666666, 0.5, 0.5, 0.16666666666666666, 0.3333333333333333, 0.3333333333333333, 0.5, 0.5, 0.5, 0.5, 0.5, 0.5, 0.16666666666666666, 0.5, 0.5, 0.3333333333333333, 0.5, 0.16666666666666666, 0.5]}, {\"marker\": {\"color\": \"rgba(80, 26, 80, 0.8)\"}, \"mode\": \"lines+markers\", \"name\": \"Hemoglobin\", \"text\": [48.0, 68.0, 53.0, 63.0, 68.0, 68.0, 40.0, 60.0, 61.0, 48.0, 61.0, 75.0, 69.0, 73.0, 61.0, 76.0, 47.0, 54.0, 48.0, 73.0, 54.0, 73.0, 15.0, 46.0, 61.0, 46.0, 56.0, 48.0, 67.0, 74.0, 59.0, 63.0, 56.0, 71.0, 73.0, 65.0, 65.0, 71.0, 17.0, 65.0, 45.0, 63.0, 65.0, 70.0, 71.0, 52.0, 50.0, 70.0, 48.0, 45.0, 60.0, 60.0, 39.0, 55.0, 56.0, 62.0, 71.0, 59.0, 46.0, 66.0, 83.0, 17.0, 21.0, 42.0, 45.0, 61.0, 54.0, 64.0, 6.0, 49.0, 59.0, 65.0, 90.0, 65.0, 60.0, 59.0, 40.0, 55.0, 63.0, 71.0, 60.0, 64.0, 59.0, 34.0, 57.0, 69.0, 62.0, 64.0, 48.0, 59.0, 56.0, 40.0, 23.0, 45.0, 57.0, 51.0, 34.0, 60.0, 38.0, 42.0, 35.0, 30.0, 49.0, 55.0, 45.0, 42.0, 50.0, 55.0, 48.0, 25.0, 23.0, 30.0, 56.0, 19.0, 52.0, 46.0, 48.0, 24.0, 55.0, 20.0, 33.0, 66.0, 71.0, 39.0, 42.0, 47.0, 30.0, 41.0, 34.0, 73.0, 44.0, 29.0, 33.0, 41.0, 52.0, 47.0, 43.0, 46.0, 56.0, 55.0, 39.0, 58.0, 61.0, 57.0, 65.0, 43.0, 58.0, 47.0, 30.0, 33.0, 59.0, 23.0, 60.0, 44.0, 62.0, 25.0, 32.0, 63.0, 44.0, 37.0, 64.0, 22.0, 43.0, 38.0, 29.0, 37.0, 39.0, 32.0, 23.0, 34.0, 66.0, 47.0, 74.0, 35.0, 29.0, 33.0, 73.0, 60.0, 68.0, 30.0, 75.0, 69.0, 28.0, 72.0, 61.0, 79.0, 70.0, 58.0, 64.0, 62.0, 59.0, 48.0, 80.0, 57.0, 63.0, 46.0, 15.0, 51.0, 41.0, 52.0, 36.0, 57.0, 43.0, 50.0, 55.0, 42.0, 12.0, 17.0, 58.0], \"type\": \"scatter\", \"x\": [1, 2, 3, 4, 5, 6, 7, 8, 9, 10, 11, 12, 13, 14, 15, 16, 17, 18, 19, 20, 21, 22, 23, 24, 25, 26, 27, 28, 29, 30, 31, 32, 33, 34, 35, 36, 37, 38, 39, 40, 41, 42, 43, 44, 45, 46, 47, 48, 49, 50, 51, 52, 53, 54, 55, 56, 57, 58, 59, 60, 61, 62, 63, 64, 65, 66, 67, 68, 69, 70, 71, 72, 73, 74, 75, 76, 77, 78, 79, 80, 81, 82, 83, 84, 85, 86, 87, 88, 89, 90, 91, 92, 93, 94, 95, 96, 97, 98, 99, 100, 101, 102, 103, 104, 105, 106, 107, 108, 109, 110, 111, 112, 113, 114, 115, 116, 117, 118, 119, 120, 121, 122, 123, 124, 125, 126, 127, 128, 129, 130, 131, 132, 133, 134, 135, 136, 137, 138, 139, 140, 141, 142, 143, 144, 145, 146, 147, 148, 149, 150, 151, 152, 153, 154, 155, 156, 157, 158, 159, 160, 161, 162, 163, 164, 165, 166, 167, 168, 169, 170, 171, 172, 173, 174, 175, 176, 177, 178, 179, 180, 181, 182, 183, 184, 185, 186, 187, 188, 189, 190, 191, 192, 193, 194, 195, 196, 197, 198, 199, 200, 201, 202, 203, 204, 205, 206, 207, 208, 209], \"y\": [0.5510204081632653, 0.6326530612244898, 0.43537414965986393, 0.5238095238095238, 0.44897959183673464, 0.17006802721088432, 0.3061224489795918, 0.6530612244897959, 0.31292517006802717, 0.45578231292517013, 0.46258503401360546, 0.5782312925170068, 0.6394557823129251, 0.47619047619047616, 0.5578231292517007, 0.489795918367347, 0.44897959183673464, 0.44897959183673464, 0.6326530612244898, 0.4693877551020408, 0.489795918367347, 0.5034013605442177, 0.5374149659863945, 0.29931972789115646, 0.8231292517006802, 0.45578231292517013, 0.4081632653061224, 0.489795918367347, 0.5986394557823129, 0.5238095238095238, 0.27210884353741494, 0.673469387755102, 0.8843537414965987, 0.4965986394557823, 0.4149659863945578, 0.5782312925170068, 0.4693877551020408, 0.5578231292517007, 0.7346938775510204, 0.7482993197278911, 0.5918367346938775, 0.5850340136054422, 0.4693877551020408, 0.6054421768707483, 0.564625850340136, 0.3401360544217687, 0.346938775510204, 0.6054421768707483, 0.6870748299319727, 0.4693877551020408, 0.5442176870748299, 0.326530612244898, 0.5306122448979592, 0.3537414965986395, 0.36054421768707484, 0.6462585034013605, 0.5306122448979592, 0.4965986394557823, 0.4013605442176871, 0.6394557823129251, 0.3809523809523809, 0.6802721088435374, 0.3537414965986395, 0.45578231292517013, 0.4693877551020408, 0.5578231292517007, 0.5578231292517007, 0.43537414965986393, 0.46258503401360546, 0.3401360544217687, 0.5510204081632653, 0.38775510204081637, 0.6054421768707483, 0.38775510204081637, 0.7278911564625851, 0.28571428571428564, 0.5306122448979592, 0.5306122448979592, 0.619047619047619, 0.673469387755102, 0.5714285714285714, 0.326530612244898, 0.4421768707482993, 0.5986394557823129, 0.4965986394557823, 0.4285714285714286, 0.7006802721088435, 0.619047619047619, 0.37414965986394555, 0.6462585034013605, 0.0, 0.8095238095238095, 0.945578231292517, 0.8707482993197279, 0.8367346938775511, 0.673469387755102, 0.7142857142857142, 0.7755102040816326, 0.7414965986394557, 0.7346938775510204, 0.8843537414965987, 0.7482993197278911, 0.945578231292517, 0.8435374149659863, 0.8911564625850339, 0.7687074829931972, 0.7551020408163265, 0.6870748299319727, 0.7346938775510204, 0.8095238095238095, 0.761904761904762, 0.7278911564625851, 0.7959183673469388, 0.7687074829931972, 0.9115646258503401, 0.8571428571428571, 0.7755102040816326, 0.8979591836734694, 0.8435374149659863, 0.782312925170068, 0.9387755102040815, 0.8775510204081632, 0.7891156462585033, 0.7006802721088435, 0.9183673469387755, 0.8027210884353742, 0.9251700680272108, 0.9319727891156463, 0.7074829931972789, 0.8163265306122448, 0.9387755102040815, 0.7959183673469388, 0.6802721088435374, 0.9523809523809524, 0.8231292517006802, 0.7142857142857142, 0.7346938775510204, 0.6870748299319727, 0.7210884353741496, 0.9659863945578231, 0.8503401360544217, 0.8095238095238095, 0.9727891156462584, 0.8571428571428571, 0.7346938775510204, 0.8707482993197279, 0.7414965986394557, 0.8639455782312925, 0.7006802721088435, 0.7482993197278911, 0.7074829931972789, 0.9931972789115645, 0.7551020408163265, 0.7414965986394557, 1.0, 0.6938775510204082, 0.761904761904762, 0.7006802721088435, 0.8095238095238095, 0.8911564625850339, 0.7687074829931972, 0.7074829931972789, 1.0, 0.7142857142857142, 0.9795918367346939, 0.8095238095238095, 0.7142857142857142, 0.782312925170068, 0.8095238095238095, 0.9523809523809524, 0.7142857142857142, 0.673469387755102, 0.9591836734693877, 0.7891156462585033, 0.7210884353741496, 0.8095238095238095, 0.7959183673469388, 0.8095238095238095, 0.9727891156462584, 0.8027210884353742, 0.7142857142857142, 0.8911564625850339, 0.9863945578231293, 0.8095238095238095, 0.7210884353741496, 0.8979591836734694, 0.8163265306122448, 0.9047619047619047, 0.7278911564625851, 0.8843537414965987, 0.8299319727891157, 0.9319727891156463, 0.7346938775510204, 0.8367346938775511, 0.9115646258503401, 0.9047619047619047, 0.9251700680272108, 0.8435374149659863, 0.945578231292517, 0.8095238095238095, 0.8503401360544217, 0.7959183673469388, 0.673469387755102, 0.7482993197278911, 0.8571428571428571, 0.9115646258503401, 0.8639455782312925, 0.7551020408163265, 0.8639455782312925]}],\n",
       "                        {\"template\": {\"data\": {\"bar\": [{\"error_x\": {\"color\": \"#2a3f5f\"}, \"error_y\": {\"color\": \"#2a3f5f\"}, \"marker\": {\"line\": {\"color\": \"#E5ECF6\", \"width\": 0.5}}, \"type\": \"bar\"}], \"barpolar\": [{\"marker\": {\"line\": {\"color\": \"#E5ECF6\", \"width\": 0.5}}, \"type\": \"barpolar\"}], \"carpet\": [{\"aaxis\": {\"endlinecolor\": \"#2a3f5f\", \"gridcolor\": \"white\", \"linecolor\": \"white\", \"minorgridcolor\": \"white\", \"startlinecolor\": \"#2a3f5f\"}, \"baxis\": {\"endlinecolor\": \"#2a3f5f\", \"gridcolor\": \"white\", \"linecolor\": \"white\", \"minorgridcolor\": \"white\", \"startlinecolor\": \"#2a3f5f\"}, \"type\": \"carpet\"}], \"choropleth\": [{\"colorbar\": {\"outlinewidth\": 0, \"ticks\": \"\"}, \"type\": \"choropleth\"}], \"contour\": [{\"colorbar\": {\"outlinewidth\": 0, \"ticks\": \"\"}, \"colorscale\": [[0.0, \"#0d0887\"], [0.1111111111111111, \"#46039f\"], [0.2222222222222222, \"#7201a8\"], [0.3333333333333333, \"#9c179e\"], [0.4444444444444444, \"#bd3786\"], [0.5555555555555556, \"#d8576b\"], [0.6666666666666666, \"#ed7953\"], [0.7777777777777778, \"#fb9f3a\"], [0.8888888888888888, \"#fdca26\"], [1.0, \"#f0f921\"]], \"type\": \"contour\"}], \"contourcarpet\": [{\"colorbar\": {\"outlinewidth\": 0, \"ticks\": \"\"}, \"type\": \"contourcarpet\"}], \"heatmap\": [{\"colorbar\": {\"outlinewidth\": 0, \"ticks\": \"\"}, \"colorscale\": [[0.0, \"#0d0887\"], [0.1111111111111111, \"#46039f\"], [0.2222222222222222, \"#7201a8\"], [0.3333333333333333, \"#9c179e\"], [0.4444444444444444, \"#bd3786\"], [0.5555555555555556, \"#d8576b\"], [0.6666666666666666, \"#ed7953\"], [0.7777777777777778, \"#fb9f3a\"], [0.8888888888888888, \"#fdca26\"], [1.0, \"#f0f921\"]], \"type\": \"heatmap\"}], \"heatmapgl\": [{\"colorbar\": {\"outlinewidth\": 0, \"ticks\": \"\"}, \"colorscale\": [[0.0, \"#0d0887\"], [0.1111111111111111, \"#46039f\"], [0.2222222222222222, \"#7201a8\"], [0.3333333333333333, \"#9c179e\"], [0.4444444444444444, \"#bd3786\"], [0.5555555555555556, \"#d8576b\"], [0.6666666666666666, \"#ed7953\"], [0.7777777777777778, \"#fb9f3a\"], [0.8888888888888888, \"#fdca26\"], [1.0, \"#f0f921\"]], \"type\": \"heatmapgl\"}], \"histogram\": [{\"marker\": {\"colorbar\": {\"outlinewidth\": 0, \"ticks\": \"\"}}, \"type\": \"histogram\"}], \"histogram2d\": [{\"colorbar\": {\"outlinewidth\": 0, \"ticks\": \"\"}, \"colorscale\": [[0.0, \"#0d0887\"], [0.1111111111111111, \"#46039f\"], [0.2222222222222222, \"#7201a8\"], [0.3333333333333333, \"#9c179e\"], [0.4444444444444444, \"#bd3786\"], [0.5555555555555556, \"#d8576b\"], [0.6666666666666666, \"#ed7953\"], [0.7777777777777778, \"#fb9f3a\"], [0.8888888888888888, \"#fdca26\"], [1.0, \"#f0f921\"]], \"type\": \"histogram2d\"}], \"histogram2dcontour\": [{\"colorbar\": {\"outlinewidth\": 0, \"ticks\": \"\"}, \"colorscale\": [[0.0, \"#0d0887\"], [0.1111111111111111, \"#46039f\"], [0.2222222222222222, \"#7201a8\"], [0.3333333333333333, \"#9c179e\"], [0.4444444444444444, \"#bd3786\"], [0.5555555555555556, \"#d8576b\"], [0.6666666666666666, \"#ed7953\"], [0.7777777777777778, \"#fb9f3a\"], [0.8888888888888888, \"#fdca26\"], [1.0, \"#f0f921\"]], \"type\": \"histogram2dcontour\"}], \"mesh3d\": [{\"colorbar\": {\"outlinewidth\": 0, \"ticks\": \"\"}, \"type\": \"mesh3d\"}], \"parcoords\": [{\"line\": {\"colorbar\": {\"outlinewidth\": 0, \"ticks\": \"\"}}, \"type\": \"parcoords\"}], \"pie\": [{\"automargin\": true, \"type\": \"pie\"}], \"scatter\": [{\"marker\": {\"colorbar\": {\"outlinewidth\": 0, \"ticks\": \"\"}}, \"type\": \"scatter\"}], \"scatter3d\": [{\"line\": {\"colorbar\": {\"outlinewidth\": 0, \"ticks\": \"\"}}, \"marker\": {\"colorbar\": {\"outlinewidth\": 0, \"ticks\": \"\"}}, \"type\": \"scatter3d\"}], \"scattercarpet\": [{\"marker\": {\"colorbar\": {\"outlinewidth\": 0, \"ticks\": \"\"}}, \"type\": \"scattercarpet\"}], \"scattergeo\": [{\"marker\": {\"colorbar\": {\"outlinewidth\": 0, \"ticks\": \"\"}}, \"type\": \"scattergeo\"}], \"scattergl\": [{\"marker\": {\"colorbar\": {\"outlinewidth\": 0, \"ticks\": \"\"}}, \"type\": \"scattergl\"}], \"scattermapbox\": [{\"marker\": {\"colorbar\": {\"outlinewidth\": 0, \"ticks\": \"\"}}, \"type\": \"scattermapbox\"}], \"scatterpolar\": [{\"marker\": {\"colorbar\": {\"outlinewidth\": 0, \"ticks\": \"\"}}, \"type\": \"scatterpolar\"}], \"scatterpolargl\": [{\"marker\": {\"colorbar\": {\"outlinewidth\": 0, \"ticks\": \"\"}}, \"type\": \"scatterpolargl\"}], \"scatterternary\": [{\"marker\": {\"colorbar\": {\"outlinewidth\": 0, \"ticks\": \"\"}}, \"type\": \"scatterternary\"}], \"surface\": [{\"colorbar\": {\"outlinewidth\": 0, \"ticks\": \"\"}, \"colorscale\": [[0.0, \"#0d0887\"], [0.1111111111111111, \"#46039f\"], [0.2222222222222222, \"#7201a8\"], [0.3333333333333333, \"#9c179e\"], [0.4444444444444444, \"#bd3786\"], [0.5555555555555556, \"#d8576b\"], [0.6666666666666666, \"#ed7953\"], [0.7777777777777778, \"#fb9f3a\"], [0.8888888888888888, \"#fdca26\"], [1.0, \"#f0f921\"]], \"type\": \"surface\"}], \"table\": [{\"cells\": {\"fill\": {\"color\": \"#EBF0F8\"}, \"line\": {\"color\": \"white\"}}, \"header\": {\"fill\": {\"color\": \"#C8D4E3\"}, \"line\": {\"color\": \"white\"}}, \"type\": \"table\"}]}, \"layout\": {\"annotationdefaults\": {\"arrowcolor\": \"#2a3f5f\", \"arrowhead\": 0, \"arrowwidth\": 1}, \"coloraxis\": {\"colorbar\": {\"outlinewidth\": 0, \"ticks\": \"\"}}, \"colorscale\": {\"diverging\": [[0, \"#8e0152\"], [0.1, \"#c51b7d\"], [0.2, \"#de77ae\"], [0.3, \"#f1b6da\"], [0.4, \"#fde0ef\"], [0.5, \"#f7f7f7\"], [0.6, \"#e6f5d0\"], [0.7, \"#b8e186\"], [0.8, \"#7fbc41\"], [0.9, \"#4d9221\"], [1, \"#276419\"]], \"sequential\": [[0.0, \"#0d0887\"], [0.1111111111111111, \"#46039f\"], [0.2222222222222222, \"#7201a8\"], [0.3333333333333333, \"#9c179e\"], [0.4444444444444444, \"#bd3786\"], [0.5555555555555556, \"#d8576b\"], [0.6666666666666666, \"#ed7953\"], [0.7777777777777778, \"#fb9f3a\"], [0.8888888888888888, \"#fdca26\"], [1.0, \"#f0f921\"]], \"sequentialminus\": [[0.0, \"#0d0887\"], [0.1111111111111111, \"#46039f\"], [0.2222222222222222, \"#7201a8\"], [0.3333333333333333, \"#9c179e\"], [0.4444444444444444, \"#bd3786\"], [0.5555555555555556, \"#d8576b\"], [0.6666666666666666, \"#ed7953\"], [0.7777777777777778, \"#fb9f3a\"], [0.8888888888888888, \"#fdca26\"], [1.0, \"#f0f921\"]]}, \"colorway\": [\"#636efa\", \"#EF553B\", \"#00cc96\", \"#ab63fa\", \"#FFA15A\", \"#19d3f3\", \"#FF6692\", \"#B6E880\", \"#FF97FF\", \"#FECB52\"], \"font\": {\"color\": \"#2a3f5f\"}, \"geo\": {\"bgcolor\": \"white\", \"lakecolor\": \"white\", \"landcolor\": \"#E5ECF6\", \"showlakes\": true, \"showland\": true, \"subunitcolor\": \"white\"}, \"hoverlabel\": {\"align\": \"left\"}, \"hovermode\": \"closest\", \"mapbox\": {\"style\": \"light\"}, \"paper_bgcolor\": \"white\", \"plot_bgcolor\": \"#E5ECF6\", \"polar\": {\"angularaxis\": {\"gridcolor\": \"white\", \"linecolor\": \"white\", \"ticks\": \"\"}, \"bgcolor\": \"#E5ECF6\", \"radialaxis\": {\"gridcolor\": \"white\", \"linecolor\": \"white\", \"ticks\": \"\"}}, \"scene\": {\"xaxis\": {\"backgroundcolor\": \"#E5ECF6\", \"gridcolor\": \"white\", \"gridwidth\": 2, \"linecolor\": \"white\", \"showbackground\": true, \"ticks\": \"\", \"zerolinecolor\": \"white\"}, \"yaxis\": {\"backgroundcolor\": \"#E5ECF6\", \"gridcolor\": \"white\", \"gridwidth\": 2, \"linecolor\": \"white\", \"showbackground\": true, \"ticks\": \"\", \"zerolinecolor\": \"white\"}, \"zaxis\": {\"backgroundcolor\": \"#E5ECF6\", \"gridcolor\": \"white\", \"gridwidth\": 2, \"linecolor\": \"white\", \"showbackground\": true, \"ticks\": \"\", \"zerolinecolor\": \"white\"}}, \"shapedefaults\": {\"line\": {\"color\": \"#2a3f5f\"}}, \"ternary\": {\"aaxis\": {\"gridcolor\": \"white\", \"linecolor\": \"white\", \"ticks\": \"\"}, \"baxis\": {\"gridcolor\": \"white\", \"linecolor\": \"white\", \"ticks\": \"\"}, \"bgcolor\": \"#E5ECF6\", \"caxis\": {\"gridcolor\": \"white\", \"linecolor\": \"white\", \"ticks\": \"\"}}, \"title\": {\"x\": 0.05}, \"xaxis\": {\"automargin\": true, \"gridcolor\": \"white\", \"linecolor\": \"white\", \"ticks\": \"\", \"title\": {\"standoff\": 15}, \"zerolinecolor\": \"white\", \"zerolinewidth\": 2}, \"yaxis\": {\"automargin\": true, \"gridcolor\": \"white\", \"linecolor\": \"white\", \"ticks\": \"\", \"title\": {\"standoff\": 15}, \"zerolinecolor\": \"white\", \"zerolinewidth\": 2}}}, \"title\": {\"text\": \"Blood Press and Hemoglobin values according the age\"}, \"xaxis\": {\"ticklen\": 5, \"title\": {\"text\": \"\\u0130d\"}, \"zeroline\": false}},\n",
       "                        {\"responsive\": true}\n",
       "                    ).then(function(){\n",
       "                            \n",
       "var gd = document.getElementById('e7bd21e0-2c7d-40ce-ba81-2291610f7cc0');\n",
       "var x = new MutationObserver(function (mutations, observer) {{\n",
       "        var display = window.getComputedStyle(gd).display;\n",
       "        if (!display || display === 'none') {{\n",
       "            console.log([gd, 'removed!']);\n",
       "            Plotly.purge(gd);\n",
       "            observer.disconnect();\n",
       "        }}\n",
       "}});\n",
       "\n",
       "// Listen for the removal of the full notebook cells\n",
       "var notebookContainer = gd.closest('#notebook-container');\n",
       "if (notebookContainer) {{\n",
       "    x.observe(notebookContainer, {childList: true});\n",
       "}}\n",
       "\n",
       "// Listen for the clearing of the current output cell\n",
       "var outputEl = gd.closest('.output');\n",
       "if (outputEl) {{\n",
       "    x.observe(outputEl, {childList: true});\n",
       "}}\n",
       "\n",
       "                        })\n",
       "                };\n",
       "                });\n",
       "            </script>\n",
       "        </div>"
      ]
     },
     "metadata": {},
     "output_type": "display_data"
    }
   ],
   "source": [
    "#Line plot\n",
    "kidney = kidney_disease.copy()\n",
    "kidney[\"id\"]=range(1,(len(kidney.Bacteria)+1),1)\n",
    "kidney[\"kidney_bp_norm\"]=(kidney.Blood_Pressure-np.min(kidney.Blood_Pressure))/(np.max(kidney.Blood_Pressure)-np.min(kidney.Blood_Pressure))\n",
    "kidney[\"kidney_hemo_norm\"]=(kidney.Hemoglobin-np.min(kidney.Hemoglobin))/(np.max(kidney.Hemoglobin)-np.min(kidney.Hemoglobin))\n",
    "#Line Plot\n",
    "trace1 = go.Scatter(\n",
    "        x = kidney.id,\n",
    "        y = kidney.kidney_bp_norm,\n",
    "        mode = \"lines\",\n",
    "        name = \"Blood Press.\",\n",
    "        marker = dict(color = 'rgba(16, 112, 2, 0.8)'),\n",
    "        text= kidney_disease.Age)\n",
    "trace2 = go.Scatter(\n",
    "        x = kidney.id,\n",
    "        y = kidney.kidney_hemo_norm,\n",
    "        mode = \"lines+markers\",\n",
    "        name = \"Hemoglobin\",\n",
    "        marker = dict(color = 'rgba(80, 26, 80, 0.8)'),\n",
    "        text= kidney_disease.Age)\n",
    "data=[trace1,trace2]\n",
    "layout=dict(title=\"Blood Pressure and Hemoglobin values according the age\",\n",
    "            xaxis=dict(title=\"İd\",ticklen=5,zeroline=False))\n",
    "fig=dict(data=data,layout=layout)\n",
    "iplot(fig)"
   ]
  },
  {
   "cell_type": "markdown",
   "metadata": {},
   "source": [
    "As illustrated here, there is no real correlation between the age and blood pressure and hemoglobin level."
   ]
  },
  {
   "cell_type": "code",
   "execution_count": 76,
   "metadata": {},
   "outputs": [
    {
     "data": {
      "image/png": "[encoded data removed]",
      "text/plain": [
       "<Figure size 1080x1080 with 2 Axes>"
      ]
     },
     "metadata": {
      "needs_background": "light"
     },
     "output_type": "display_data"
    }
   ],
   "source": [
    "f,ax=plt.subplots(figsize=(15,15))\n",
    "sns.heatmap(kidney_disease.corr(),annot=True,fmt=\".2f\",ax=ax,linewidths=0.5,linecolor=\"orange\")\n",
    "plt.xticks(rotation=45)\n",
    "plt.yticks(rotation=45)\n",
    "plt.show()"
   ]
  },
  {
   "cell_type": "markdown",
   "metadata": {},
   "source": [
    "This heat map gives us a good look on how the features are related to each other. for example we can see that there is no relation between age and appetite ( dark colour), but there is a strong relation between the blood glucose level and sugre (light colour)."
   ]
  },
  {
   "cell_type": "code",
   "execution_count": 77,
   "metadata": {},
   "outputs": [
    {
     "name": "stdout",
     "output_type": "stream",
     "text": [
      "<class 'pandas.core.frame.DataFrame'>\n",
      "Int64Index: 209 entries, 3 to 399\n",
      "Data columns (total 22 columns):\n",
      "Age                        209 non-null float64\n",
      "Blood_Pressure             209 non-null float64\n",
      "Specific_Gravity           209 non-null float64\n",
      "Albumin                    209 non-null float64\n",
      "Suger                      209 non-null float64\n",
      "Pus_Cell                   209 non-null int64\n",
      "Pus_Cell_clumps            209 non-null int64\n",
      "Bacteria                   209 non-null int64\n",
      "Blood_Glucose_Random       209 non-null float64\n",
      "Blood_Urea                 209 non-null float64\n",
      "Serum_Creatinine           209 non-null float64\n",
      "Sodium                     209 non-null float64\n",
      "Potassium                  209 non-null float64\n",
      "Hemoglobin                 209 non-null float64\n",
      "Packed_Cell_Volume         209 non-null object\n",
      "Hypertension               209 non-null int64\n",
      "Diabetes_Mellitus          209 non-null int64\n",
      "Coronary_Artery_Disease    209 non-null int64\n",
      "Appetite                   209 non-null int64\n",
      "Pedal_Edema                209 non-null int64\n",
      "Anemia                     209 non-null int64\n",
      "Class                      209 non-null int64\n",
      "dtypes: float64(11), int64(10), object(1)\n",
      "memory usage: 37.6+ KB\n"
     ]
    }
   ],
   "source": [
    "kidney_disease.info()"
   ]
  },
  {
   "cell_type": "markdown",
   "metadata": {},
   "source": [
    "#### Implementation\n",
    "To use a classification algorithm I need to:\n",
    "1. Split data in to label (for the the class) and features (for the rest of the columns).\n",
    "2. Create train and test sets.\n",
    "3. Train the model.\n",
    "I tested 2 classification algorithms to compare their performance.\n",
    "1. GaussianNB: as its preform well with binary classifications.\n",
    "2. RandomForestClassifier: takes the average of all the predictions so it does not suffer from the overfitting problem.\n"
   ]
  },
  {
   "cell_type": "markdown",
   "metadata": {},
   "source": [
    "#### Metrics\n",
    "I used two matrices to evaluate the model:\n",
    "1. Accuracy: As we have a binary classification problem (whether you have the disease or not),true positive and true negatives are important to focus on and accuracy is the metric that highlights their importance.\n",
    "2. F-Score: Class imbalance and uneven distribution are problems that exist in this dataset, so F-Score is a good metric to be used with this kind of problem."
   ]
  },
  {
   "cell_type": "code",
   "execution_count": 79,
   "metadata": {},
   "outputs": [],
   "source": [
    "# split data in to label (for the the class) and features (for the rest of the columns) \n",
    "features = kidney_disease.drop(['Class'], axis = 1)\n",
    "label = kidney_disease['Class']"
   ]
  },
  {
   "cell_type": "code",
   "execution_count": 80,
   "metadata": {},
   "outputs": [],
   "source": [
    "#create train and test sets \n",
    "X_train, X_test, y_train, y_test = train_test_split(features, \n",
    "                                                    label, \n",
    "                                                    test_size = 0.2, \n",
    "                                                    random_state = 47)"
   ]
  },
  {
   "cell_type": "code",
   "execution_count": 81,
   "metadata": {},
   "outputs": [],
   "source": [
    "#Train the GaussianNB\n",
    "from sklearn.naive_bayes import GaussianNB\n",
    "\n",
    "clf_NB = GaussianNB()\n",
    "model_NB = clf_NB.fit(X_train,y_train)\n",
    "predictions_NB = clf_NB.predict(X_test)\n",
    "accuracy_NB =accuracy_score(y_test, predictions_NB)\n",
    "fscore_NB=fbeta_score(y_test, predictions_NB,beta = 0.5)"
   ]
  },
  {
   "cell_type": "code",
   "execution_count": 82,
   "metadata": {},
   "outputs": [
    {
     "data": {
      "text/plain": [
       "1.0"
      ]
     },
     "execution_count": 82,
     "metadata": {},
     "output_type": "execute_result"
    }
   ],
   "source": [
    "accuracy_NB"
   ]
  },
  {
   "cell_type": "code",
   "execution_count": 83,
   "metadata": {},
   "outputs": [
    {
     "data": {
      "text/plain": [
       "1.0"
      ]
     },
     "execution_count": 83,
     "metadata": {},
     "output_type": "execute_result"
    }
   ],
   "source": [
    "fscore_NB"
   ]
  },
  {
   "cell_type": "code",
   "execution_count": 87,
   "metadata": {},
   "outputs": [
    {
     "name": "stderr",
     "output_type": "stream",
     "text": [
      "/opt/anaconda3/lib/python3.7/site-packages/sklearn/ensemble/forest.py:245: FutureWarning:\n",
      "\n",
      "The default value of n_estimators will change from 10 in version 0.20 to 100 in 0.22.\n",
      "\n"
     ]
    }
   ],
   "source": [
    "#Train the RandomForestClassifier\n",
    "from sklearn.ensemble import RandomForestClassifier\n",
    "\n",
    "clf_RF = RandomForestClassifier()\n",
    "model_RF = clf_RF.fit(X_train,y_train)\n",
    "predictions_RF = clf_RF.predict(X_test)\n",
    "accuracy_RF =accuracy_score(y_test, predictions_RF)\n",
    "fscore_RF=fbeta_score(y_test, predictions_RF,beta = 0.5)"
   ]
  },
  {
   "cell_type": "code",
   "execution_count": 88,
   "metadata": {},
   "outputs": [
    {
     "data": {
      "text/plain": [
       "1.0"
      ]
     },
     "execution_count": 88,
     "metadata": {},
     "output_type": "execute_result"
    }
   ],
   "source": [
    "accuracy_RF"
   ]
  },
  {
   "cell_type": "code",
   "execution_count": 89,
   "metadata": {},
   "outputs": [
    {
     "data": {
      "text/plain": [
       "1.0"
      ]
     },
     "execution_count": 89,
     "metadata": {},
     "output_type": "execute_result"
    }
   ],
   "source": [
    "fscore_RF"
   ]
  },
  {
   "cell_type": "markdown",
   "metadata": {},
   "source": [
    "Both algorithms preformed very well with 100% accuracy and F- Score = 1. as a result no need for improvement upon algorithm parameters.\n"
   ]
  },
  {
   "cell_type": "markdown",
   "metadata": {},
   "source": [
    "### Results\n",
    "#### Model Evaluation and Validation\n",
    "To answer my second question stated earlier:\n",
    "\"what are the best features that can help predict Chronic kidney disease?\"\n",
    "I used the feature_importances_ function and the three most importance features that can help in prediction are : Packed_Cell_Volume, Serum_Creatinine, Specific_Gravity."
   ]
  },
  {
   "cell_type": "code",
   "execution_count": 95,
   "metadata": {},
   "outputs": [],
   "source": [
    "#feature_importances\n",
    "importances = model_RF.feature_importances_\n",
    "X_features = features.columns\n",
    "list_of_importances = list(zip(X_features, model_RF.feature_importances_))"
   ]
  },
  {
   "cell_type": "code",
   "execution_count": 96,
   "metadata": {},
   "outputs": [
    {
     "data": {
      "text/html": [
       "<div>\n",
       "<style scoped>\n",
       "    .dataframe tbody tr th:only-of-type {\n",
       "        vertical-align: middle;\n",
       "    }\n",
       "\n",
       "    .dataframe tbody tr th {\n",
       "        vertical-align: top;\n",
       "    }\n",
       "\n",
       "    .dataframe thead th {\n",
       "        text-align: right;\n",
       "    }\n",
       "</style>\n",
       "<table border=\"1\" class=\"dataframe\">\n",
       "  <thead>\n",
       "    <tr style=\"text-align: right;\">\n",
       "      <th></th>\n",
       "      <th>importance</th>\n",
       "    </tr>\n",
       "  </thead>\n",
       "  <tbody>\n",
       "    <tr>\n",
       "      <td>Packed_Cell_Volume</td>\n",
       "      <td>0.310794</td>\n",
       "    </tr>\n",
       "    <tr>\n",
       "      <td>Serum_Creatinine</td>\n",
       "      <td>0.253812</td>\n",
       "    </tr>\n",
       "    <tr>\n",
       "      <td>Specific_Gravity</td>\n",
       "      <td>0.175596</td>\n",
       "    </tr>\n",
       "  </tbody>\n",
       "</table>\n",
       "</div>"
      ],
      "text/plain": [
       "                    importance\n",
       "Packed_Cell_Volume    0.310794\n",
       "Serum_Creatinine      0.253812\n",
       "Specific_Gravity      0.175596"
      ]
     },
     "execution_count": 96,
     "metadata": {},
     "output_type": "execute_result"
    }
   ],
   "source": [
    "importances = pd.DataFrame(model_RF.feature_importances_,\n",
    "                                   index = features.columns,\n",
    "                                  columns=['importance']).sort_values('importance', ascending=False)\n",
    "importances[0:3]"
   ]
  },
  {
   "cell_type": "markdown",
   "metadata": {},
   "source": [
    "Although the dataset is really small and has a lot of missing values, I did not want to use technics as Imputing because, in my opinion, as I’m working with medical information I prefer to have limited data than inaccurate or not exact one to reduce the chances of miss diagnosis.\n"
   ]
  },
  {
   "cell_type": "markdown",
   "metadata": {},
   "source": [
    "### Conclusion\n",
    "#### Reflection\n",
    "In this blog, there were 400 samples and 26 parameters. However, I encountered many issues like class imbalance, missing values and the size of the dataset in hand. So, I went through number of steps to prepare the data for the classification process and I was able to build my model successfully.\n",
    "#### Improvement\n",
    "I would like to test the robustness of the model if used in real life sitting by implementing an application that can be used in real life."
   ]
  },
  {
   "cell_type": "markdown",
   "metadata": {},
   "source": [
    "### References\n",
    "[1] National Institute of Diabetes and Digestive and Kidney Diseases. June 2017. Retrieved 19 December 2017.\n",
    "\n",
    "[2] Bikbov B, Perico N, Remuzzi G (23 May 2018). \"Disparities in Chronic Kidney Disease Prevalence among Males and Females in 195 Countries: Analysis of the Global Burden of Disease 2016 Study\". Nephron. 139 (4): 313–318. "
   ]
  },
  {
   "cell_type": "code",
   "execution_count": null,
   "metadata": {},
   "outputs": [],
   "source": []
  }
 ],
 "metadata": {
  "kernelspec": {
   "display_name": "Python 3",
   "language": "python",
   "name": "python3"
  },
  "language_info": {
   "codemirror_mode": {
    "name": "ipython",
    "version": 3
   },
   "file_extension": ".py",
   "mimetype": "text/x-python",
   "name": "python",
   "nbconvert_exporter": "python",
   "pygments_lexer": "ipython3",
   "version": "3.7.4"
  }
 },
 "nbformat": 4,
 "nbformat_minor": 2
}
